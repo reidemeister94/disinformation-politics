{
 "cells": [
  {
   "cell_type": "code",
   "execution_count": 1,
   "metadata": {},
   "outputs": [],
   "source": [
    "%load_ext lab_black"
   ]
  },
  {
   "cell_type": "code",
   "execution_count": 2,
   "metadata": {},
   "outputs": [],
   "source": [
    "# Loading all necessary libraries\n",
    "import numpy as np\n",
    "import pandas as pd\n",
    "from os import path\n",
    "from PIL import Image\n",
    "from wordcloud import WordCloud, STOPWORDS, ImageColorGenerator\n",
    "from sklearn import preprocessing\n",
    "from dateutil import parser\n",
    "from collections import defaultdict\n",
    "import nltk\n",
    "from nltk.corpus import stopwords\n",
    "from nltk.tokenize import word_tokenize\n",
    "import re\n",
    "import spacy\n",
    "import matplotlib.pyplot as plt\n",
    "import matplotlib.backends.backend_pdf\n",
    "import random\n",
    "import unidecode\n",
    "import emoji\n",
    "import json\n",
    "from pprint import pprint\n",
    "import gc\n",
    "from datetime import datetime\n",
    "from datetime import timedelta\n",
    "import os\n",
    "from sklearn.feature_extraction.text import CountVectorizer\n",
    "import seaborn as sns\n",
    "from sklearn.decomposition import LatentDirichletAllocation as LDA"
   ]
  },
  {
   "cell_type": "code",
   "execution_count": 3,
   "metadata": {},
   "outputs": [],
   "source": [
    "%matplotlib inline\n",
    "\n",
    "# sp = spacy.load(\"it_core_news_lg\")"
   ]
  },
  {
   "cell_type": "markdown",
   "metadata": {},
   "source": [
    "### Load Input Data"
   ]
  },
  {
   "cell_type": "code",
   "execution_count": 4,
   "metadata": {},
   "outputs": [],
   "source": [
    "TYPE_PAGE_LIST = [\"politicians\"]\n",
    "TYPE_SOCIAL_LIST = [\"facebook\"]  # [\"facebook\", \"instagram\"]\n",
    "COUNTRY_PAGE_LIST = [\"italy\"]\n",
    "\n",
    "DATA_PATH = \"data/\"\n",
    "OUTPUT_PATH = \"output/\"\n",
    "\n",
    "COLUMNS_TYPES_FB = {}\n",
    "COLUMNS_TYPES_IG = {}"
   ]
  },
  {
   "cell_type": "code",
   "execution_count": 5,
   "metadata": {},
   "outputs": [],
   "source": [
    "MONTHS_2019 = {\"dec\": 12}\n",
    "MONTHS_2020 = {\n",
    "    \"jan\": 1,\n",
    "    \"feb\": 2,\n",
    "    \"mar\": 3,\n",
    "    \"apr\": 4,\n",
    "    \"may\": 5,\n",
    "    \"jun\": 6,\n",
    "    \"jul\": 7,\n",
    "    \"aug\": 8,\n",
    "}\n",
    "df_map = {}\n",
    "df_months_map = {\n",
    "    \"dec\": {},\n",
    "    \"jan\": {},\n",
    "    \"feb\": {},\n",
    "    \"mar\": {},\n",
    "    \"apr\": {},\n",
    "    \"may\": {},\n",
    "    \"jun\": {},\n",
    "    \"jul\": {},\n",
    "    \"aug\": {},\n",
    "}\n",
    "df_specific_party_map = {\n",
    "    \"dec\": {},\n",
    "    \"jan\": {},\n",
    "    \"feb\": {},\n",
    "    \"mar\": {},\n",
    "    \"apr\": {},\n",
    "    \"may\": {},\n",
    "    \"jun\": {},\n",
    "    \"jul\": {},\n",
    "    \"aug\": {},\n",
    "}\n",
    "df_pol_party_frequency_migration_map = {\n",
    "    \"dec\": {},\n",
    "    \"jan\": {},\n",
    "    \"feb\": {},\n",
    "    \"mar\": {},\n",
    "    \"apr\": {},\n",
    "    \"may\": {},\n",
    "    \"jun\": {},\n",
    "    \"jul\": {},\n",
    "    \"aug\": {},\n",
    "}\n",
    "df_pol_party_frequency_risk_map = {\n",
    "    \"dec\": {},\n",
    "    \"jan\": {},\n",
    "    \"feb\": {},\n",
    "    \"mar\": {},\n",
    "    \"apr\": {},\n",
    "    \"may\": {},\n",
    "    \"jun\": {},\n",
    "    \"jul\": {},\n",
    "    \"aug\": {},\n",
    "}\n",
    "df_pol_party_top_risk_map = {\n",
    "    \"dec\": {},\n",
    "    \"jan\": {},\n",
    "    \"feb\": {},\n",
    "    \"mar\": {},\n",
    "    \"apr\": {},\n",
    "    \"may\": {},\n",
    "    \"jun\": {},\n",
    "    \"jul\": {},\n",
    "    \"aug\": {},\n",
    "}\n",
    "lists_months_map = {\n",
    "    \"dec\": {},\n",
    "    \"jan\": {},\n",
    "    \"feb\": {},\n",
    "    \"mar\": {},\n",
    "    \"apr\": {},\n",
    "    \"may\": {},\n",
    "    \"jun\": {},\n",
    "    \"jul\": {},\n",
    "    \"aug\": {},\n",
    "}\n",
    "top_posts_map = {\n",
    "    \"dec\": {},\n",
    "    \"jan\": {},\n",
    "    \"feb\": {},\n",
    "    \"mar\": {},\n",
    "    \"apr\": {},\n",
    "    \"may\": {},\n",
    "    \"jun\": {},\n",
    "    \"jul\": {},\n",
    "    \"aug\": {},\n",
    "}\n",
    "risk_lists_months_map = {\n",
    "    \"dec\": {},\n",
    "    \"jan\": {},\n",
    "    \"feb\": {},\n",
    "    \"mar\": {},\n",
    "    \"apr\": {},\n",
    "    \"may\": {},\n",
    "    \"jun\": {},\n",
    "    \"jul\": {},\n",
    "    \"aug\": {},\n",
    "}\n",
    "risk_top_lists_months_map = {\n",
    "    \"dec\": {},\n",
    "    \"jan\": {},\n",
    "    \"feb\": {},\n",
    "    \"mar\": {},\n",
    "    \"apr\": {},\n",
    "    \"may\": {},\n",
    "    \"jun\": {},\n",
    "    \"jul\": {},\n",
    "    \"aug\": {},\n",
    "}\n",
    "figures = {\n",
    "    \"dec\": [],\n",
    "    \"jan\": [],\n",
    "    \"feb\": [],\n",
    "    \"mar\": [],\n",
    "    \"apr\": [],\n",
    "    \"may\": [],\n",
    "    \"jun\": [],\n",
    "    \"jul\": [],\n",
    "    \"aug\": [],\n",
    "}\n",
    "risk_figures = {\n",
    "    \"dec\": [],\n",
    "    \"jan\": [],\n",
    "    \"feb\": [],\n",
    "    \"mar\": [],\n",
    "    \"apr\": [],\n",
    "    \"may\": [],\n",
    "    \"jun\": [],\n",
    "    \"jul\": [],\n",
    "    \"aug\": [],\n",
    "}\n",
    "risk_top_figures = {\n",
    "    \"dec\": [],\n",
    "    \"jan\": [],\n",
    "    \"feb\": [],\n",
    "    \"mar\": [],\n",
    "    \"apr\": [],\n",
    "    \"may\": [],\n",
    "    \"jun\": [],\n",
    "    \"jul\": [],\n",
    "    \"aug\": [],\n",
    "}\n",
    "post_id_range_map = {}\n",
    "account_df_map = {}\n",
    "account_df_delta_map_final = {}\n",
    "account_rolling_map = {}"
   ]
  },
  {
   "cell_type": "code",
   "execution_count": 6,
   "metadata": {},
   "outputs": [],
   "source": [
    "df_time_series = pd.read_csv(\n",
    "    \"data/basic_historical.csv\", header=0, parse_dates=[\"date\"]\n",
    ")"
   ]
  },
  {
   "cell_type": "code",
   "execution_count": 7,
   "metadata": {},
   "outputs": [],
   "source": [
    "def compute_engagement(row):\n",
    "    followers = row[\"likes_at_posting\"]\n",
    "    interactions = (\n",
    "        row[\"likeCount\"]\n",
    "        + row[\"commentCount\"]\n",
    "        + row[\"shareCount\"]\n",
    "        + row[\"loveCount\"]\n",
    "        + row[\"wowCount\"]\n",
    "        + row[\"hahaCount\"]\n",
    "        + row[\"sadCount\"]\n",
    "        + row[\"angryCount\"]\n",
    "        + row[\"careCount\"]\n",
    "        + row[\"thankfulCount\"]\n",
    "    )\n",
    "    engagement = (interactions / followers) * 100\n",
    "    # mean_engagement = sum(engagements) / len(engagements)\n",
    "    # mean_interactions = sum(interactions_list) / len(interactions_list)\n",
    "    return engagement"
   ]
  },
  {
   "cell_type": "code",
   "execution_count": 8,
   "metadata": {},
   "outputs": [],
   "source": [
    "def print_things(df, by):\n",
    "    group_by = by\n",
    "    groups = df.groupby([group_by])\n",
    "    print(\"Number of groups (divided by {}): {}\".format(group_by, len(groups)))\n",
    "    for i, g in enumerate(groups):\n",
    "        name = g[0]\n",
    "        df = g[1]\n",
    "        if i == 0:\n",
    "            print(\"Name: {}\".format(name))\n",
    "            print(\"Df Head:\")\n",
    "            print(df.head())\n",
    "            print(\"Number of rows: {}\".format(len(df)))"
   ]
  },
  {
   "cell_type": "code",
   "execution_count": 9,
   "metadata": {},
   "outputs": [],
   "source": [
    "def clean_date(row):\n",
    "    s_date = str(row[\"date\"])\n",
    "    new_date = s_date.split(\" \")[0]\n",
    "    new_date = datetime.strptime(new_date, \"%Y-%m-%d\")\n",
    "    return new_date"
   ]
  },
  {
   "cell_type": "markdown",
   "metadata": {},
   "source": [
    "#### Adding engagement column to time series"
   ]
  },
  {
   "cell_type": "code",
   "execution_count": 10,
   "metadata": {},
   "outputs": [],
   "source": [
    "df_time_series[\"engagement\"] = df_time_series.apply(\n",
    "    lambda row: compute_engagement(row), axis=1\n",
    ")"
   ]
  },
  {
   "cell_type": "markdown",
   "metadata": {},
   "source": [
    "#### Adding date_clean (date without hours, minute, seconds) column to time series"
   ]
  },
  {
   "cell_type": "code",
   "execution_count": 11,
   "metadata": {},
   "outputs": [],
   "source": [
    "df_time_series[\"date_clean\"] = df_time_series.apply(lambda row: clean_date(row), axis=1)"
   ]
  },
  {
   "cell_type": "markdown",
   "metadata": {},
   "source": [
    "### Create map with min and max date for every post"
   ]
  },
  {
   "cell_type": "code",
   "execution_count": 12,
   "metadata": {},
   "outputs": [],
   "source": [
    "groups_by_id = df_time_series.groupby([\"id\"])"
   ]
  },
  {
   "cell_type": "code",
   "execution_count": 13,
   "metadata": {},
   "outputs": [],
   "source": [
    "for group_name, group_df in groups_by_id:\n",
    "    min_date = min(group_df[\"date_clean\"])\n",
    "    max_date = min_date + timedelta(days=2)\n",
    "    post_id_range_map[group_name] = {\"min\": min_date, \"max\": max_date}"
   ]
  },
  {
   "cell_type": "markdown",
   "metadata": {},
   "source": [
    "### Clean df by removing all the rows with post older than X days"
   ]
  },
  {
   "cell_type": "code",
   "execution_count": 14,
   "metadata": {},
   "outputs": [],
   "source": [
    "rows_to_remove = []\n",
    "for index, row in df_time_series.iterrows():\n",
    "    if row[\"date\"] > post_id_range_map[row[\"id\"]][\"max\"]:\n",
    "        rows_to_remove.append(index)"
   ]
  },
  {
   "cell_type": "code",
   "execution_count": 15,
   "metadata": {},
   "outputs": [],
   "source": [
    "df_time_series = df_time_series.drop(rows_to_remove)"
   ]
  },
  {
   "cell_type": "markdown",
   "metadata": {},
   "source": [
    "#### Compute Delta of reactions"
   ]
  },
  {
   "cell_type": "code",
   "execution_count": 16,
   "metadata": {},
   "outputs": [],
   "source": [
    "def compute_delta(min_row, max_row):\n",
    "    # print(\"&\" * 75)\n",
    "    # print(min_row)\n",
    "    # print(min_row[\"likeCount\"])\n",
    "    # print(\"&\" * 75)\n",
    "    like_ = max_row[\"likeCount\"] - min_row[\"likeCount\"]\n",
    "    # print(like)\n",
    "    comment_ = max_row[\"commentCount\"] - min_row[\"commentCount\"]\n",
    "    share_ = max_row[\"shareCount\"] - min_row[\"shareCount\"]\n",
    "    love_ = max_row[\"loveCount\"] - min_row[\"loveCount\"]\n",
    "    wow_ = max_row[\"wowCount\"] - min_row[\"wowCount\"]\n",
    "    haha_ = max_row[\"hahaCount\"] - min_row[\"hahaCount\"]\n",
    "    sad_ = max_row[\"sadCount\"] - min_row[\"sadCount\"]\n",
    "    angry_ = max_row[\"angryCount\"] - min_row[\"angryCount\"]\n",
    "    care_ = max_row[\"careCount\"] - min_row[\"careCount\"]\n",
    "    thank_ = max_row[\"thankfulCount\"] - min_row[\"thankfulCount\"]\n",
    "    # print(type(like_))\n",
    "    # print(res)\n",
    "    return sum(\n",
    "        [like_, comment_, share_, love_, wow_, haha_, sad_, angry_, care_, thank_]\n",
    "    )"
   ]
  },
  {
   "cell_type": "markdown",
   "metadata": {},
   "source": [
    "### Create sliding window"
   ]
  },
  {
   "cell_type": "code",
   "execution_count": 17,
   "metadata": {},
   "outputs": [],
   "source": [
    "N_DAYS = 7"
   ]
  },
  {
   "cell_type": "code",
   "execution_count": 18,
   "metadata": {},
   "outputs": [],
   "source": [
    "groups_by_account = df_time_series.groupby([\"account\"])"
   ]
  },
  {
   "cell_type": "code",
   "execution_count": 19,
   "metadata": {},
   "outputs": [],
   "source": [
    "for g_name, g_df in groups_by_account:\n",
    "    # for every account\n",
    "    new_df = g_df.copy()\n",
    "    groups_by_ts = new_df.groupby([\"date_clean\"])\n",
    "    account_df_map[g_name] = []\n",
    "    for g_name_ts, df_ts in groups_by_ts:\n",
    "        # for every day\n",
    "        group_by_id = df_ts.groupby([\"id\"])\n",
    "        # for every post\n",
    "        total_reaction = 0\n",
    "        followers_final = 0\n",
    "        j = 0\n",
    "        for post_id, posts_df in group_by_id:\n",
    "            min_date_row = posts_df[posts_df[\"date\"] == min(posts_df[\"date\"])].iloc[0]\n",
    "            max_date_row = posts_df[posts_df[\"date\"] == max(posts_df[\"date\"])].iloc[0]\n",
    "            # print('='*75)\n",
    "            # print(min_date_row)\n",
    "            # print(max_date_row)\n",
    "            # print('='*75)\n",
    "            total_reaction += compute_delta(min_date_row, max_date_row)\n",
    "            followers_final += max_date_row[\"likes_at_posting\"]\n",
    "            # print(total_reaction)\n",
    "            # print(followers_final)\n",
    "            j += 1\n",
    "        engagement = (total_reaction / (followers_final / j)) * 100\n",
    "        account_df_map[g_name].append([g_name_ts, engagement])"
   ]
  },
  {
   "cell_type": "markdown",
   "metadata": {},
   "source": [
    "#### Sliding window with delta reactions"
   ]
  },
  {
   "cell_type": "code",
   "execution_count": 20,
   "metadata": {},
   "outputs": [],
   "source": [
    "for account, lists in account_df_map.items():\n",
    "    df = pd.DataFrame(lists, columns=[\"date\", \"engagement\"])\n",
    "    df = df.set_index(\"date\")\n",
    "    df = df.sort_index()\n",
    "    df = df[[\"engagement\"]]\n",
    "    df[\"MA_{}\".format(N_DAYS)] = df.rolling(\"{}D\".format(N_DAYS)).mean()\n",
    "    account_df_delta_map_final[account] = df.copy()"
   ]
  },
  {
   "cell_type": "code",
   "execution_count": 21,
   "metadata": {},
   "outputs": [
    {
     "data": {
      "text/plain": [
       "1849"
      ]
     },
     "execution_count": 21,
     "metadata": {},
     "output_type": "execute_result"
    }
   ],
   "source": [
    "gc.collect()"
   ]
  },
  {
   "cell_type": "markdown",
   "metadata": {},
   "source": [
    "#### Sliding window with mean of engagements"
   ]
  },
  {
   "cell_type": "code",
   "execution_count": 22,
   "metadata": {},
   "outputs": [],
   "source": [
    "for g_name, g_df in groups_by_account:\n",
    "    new_df = g_df.copy()\n",
    "    new_df = new_df.set_index(\"date_clean\")\n",
    "    new_df.index.names = [\"date\"]\n",
    "    new_df = new_df.sort_index()\n",
    "    new_df = new_df[[\"engagement\"]]\n",
    "    new_df = new_df.groupby(\"date\").mean()\n",
    "    new_df[\"MA_{}\".format(N_DAYS)] = new_df.rolling(\"{}D\".format(N_DAYS)).mean()\n",
    "    # new_df[\"MA_1\"] = new_df.rolling(\"1D\").mean()\n",
    "    account_rolling_map[g_name] = new_df"
   ]
  },
  {
   "cell_type": "code",
   "execution_count": 23,
   "metadata": {},
   "outputs": [
    {
     "data": {
      "text/plain": [
       "dict_keys(['Emma Bonino', 'Forza Italia', \"Fratelli d'Italia\", 'Giorgia Meloni', 'Giuseppe Conte', 'Italia Viva', 'Lega - Salvini Premier', 'Luigi Di Maio', 'Matteo Renzi', 'Matteo Salvini', 'MoVimento 5 Stelle', 'Nicola Fratoianni', 'Nicola Zingaretti', 'Partito Democratico', 'Più Europa', 'Silvio Berlusconi'])"
      ]
     },
     "execution_count": 23,
     "metadata": {},
     "output_type": "execute_result"
    }
   ],
   "source": [
    "account_rolling_map.keys()"
   ]
  },
  {
   "cell_type": "code",
   "execution_count": 24,
   "metadata": {},
   "outputs": [
    {
     "data": {
      "text/plain": [
       "dict_keys(['Emma Bonino', 'Forza Italia', \"Fratelli d'Italia\", 'Giorgia Meloni', 'Giuseppe Conte', 'Italia Viva', 'Lega - Salvini Premier', 'Luigi Di Maio', 'Matteo Renzi', 'Matteo Salvini', 'MoVimento 5 Stelle', 'Nicola Fratoianni', 'Nicola Zingaretti', 'Partito Democratico', 'Più Europa', 'Silvio Berlusconi'])"
      ]
     },
     "execution_count": 24,
     "metadata": {},
     "output_type": "execute_result"
    }
   ],
   "source": [
    "account_df_delta_map_final.keys()"
   ]
  },
  {
   "cell_type": "code",
   "execution_count": 33,
   "metadata": {},
   "outputs": [],
   "source": [
    "list_df_mean = []\n",
    "for name, df in account_rolling_map.items():\n",
    "    name_ = (\n",
    "        \"df_engagement_mean_\"\n",
    "        + name.lower().replace(\" \", \"_\").replace(\"-\", \"\").replace(\"__\", \"_\")\n",
    "        + \".csv\"\n",
    "    )\n",
    "    df_ = df.copy()\n",
    "    df_[\"page_name\"] = (\n",
    "        name.lower().replace(\" \", \"_\").replace(\"-\", \"\").replace(\"__\", \"_\")\n",
    "    )\n",
    "    # df_['date'] = df_.index\n",
    "\n",
    "    df_ = df_.reset_index()\n",
    "    list_df_mean.append(df_)\n",
    "\n",
    "final_mean_df = pd.concat(list_df_mean, axis=0)\n",
    "# df.to_csv(\"df_csv_engagement/\" + name_)"
   ]
  },
  {
   "cell_type": "code",
   "execution_count": 35,
   "metadata": {},
   "outputs": [],
   "source": [
    "final_mean_df.to_csv(\"df_csv_engagement/df_engagement_mean.csv\")"
   ]
  },
  {
   "cell_type": "code",
   "execution_count": 36,
   "metadata": {},
   "outputs": [],
   "source": [
    "list_df_delta = []\n",
    "for name, df in account_df_delta_map_final.items():\n",
    "    name_ = (\n",
    "        \"df_engagement_mean_\"\n",
    "        + name.lower().replace(\" \", \"_\").replace(\"-\", \"\").replace(\"__\", \"_\")\n",
    "        + \".csv\"\n",
    "    )\n",
    "    df_ = df.copy()\n",
    "    df_[\"page_name\"] = (\n",
    "        name.lower().replace(\" \", \"_\").replace(\"-\", \"\").replace(\"__\", \"_\")\n",
    "    )\n",
    "    df_ = df_.reset_index()\n",
    "    list_df_delta.append(df_)\n",
    "\n",
    "final_delta_df = pd.concat(list_df_delta, axis=0)"
   ]
  },
  {
   "cell_type": "code",
   "execution_count": 38,
   "metadata": {},
   "outputs": [],
   "source": [
    "final_delta_df.to_csv(\"df_csv_engagement/df_engagement_delta.csv\")"
   ]
  },
  {
   "cell_type": "code",
   "execution_count": null,
   "metadata": {},
   "outputs": [],
   "source": [
    "for name, df in account_df_delta_map_final.items():\n",
    "    name_ = (\n",
    "        \"df_engagement_delta_\"\n",
    "        + name.lower().replace(\" \", \"_\").replace(\"-\", \"\").replace(\"__\", \"_\")\n",
    "        + \".csv\"\n",
    "    )\n",
    "    df.to_csv(\"df_csv_engagement/\" + name_)"
   ]
  },
  {
   "cell_type": "code",
   "execution_count": null,
   "metadata": {},
   "outputs": [],
   "source": [
    "account_rolling_map[\"Giuseppe Conte\"]"
   ]
  },
  {
   "cell_type": "code",
   "execution_count": null,
   "metadata": {},
   "outputs": [],
   "source": [
    "account_df_delta_map_final[\"Giuseppe Conte\"]"
   ]
  },
  {
   "cell_type": "code",
   "execution_count": null,
   "metadata": {},
   "outputs": [],
   "source": []
  },
  {
   "cell_type": "markdown",
   "metadata": {},
   "source": [
    "#### Fill dfs with 0 in days without engagement data"
   ]
  },
  {
   "cell_type": "code",
   "execution_count": null,
   "metadata": {},
   "outputs": [],
   "source": [
    "# idxs = pd.date_range(\"12-01-2019\", \"09-01-2020\")"
   ]
  },
  {
   "cell_type": "raw",
   "metadata": {},
   "source": [
    "for name, df_ in account_df_delta_map_final.items():\n",
    "    df_ = df_.reindex(idxs, fill_value=0)\n",
    "    account_df_delta_map_final[name] = df_\n",
    "\n",
    "for name, df_ in account_rolling_map.items():\n",
    "    df_ = df_.reindex(idxs, fill_value=0)\n",
    "    account_rolling_map[name] = df_"
   ]
  },
  {
   "cell_type": "markdown",
   "metadata": {},
   "source": [
    "### Plots"
   ]
  },
  {
   "cell_type": "code",
   "execution_count": null,
   "metadata": {},
   "outputs": [],
   "source": [
    "def plot_ma(map_name, n_days, account_list, file_name):\n",
    "    plt.figure(figsize=(15, 10))\n",
    "    plt.grid(True)\n",
    "    for acc in account_list:\n",
    "        plt.plot(\n",
    "            map_name[acc][\"MA_{}\".format(N_DAYS)], label=acc,\n",
    "        )\n",
    "    plt.axvspan(\n",
    "        datetime(2020, 2, 21),\n",
    "        datetime(2020, 5, 4),\n",
    "        ymin=0,\n",
    "        ymax=6,\n",
    "        alpha=0.2,\n",
    "        color=\"red\",\n",
    "    )\n",
    "    plt.linewidth = 3\n",
    "    plt.legend(loc=2)\n",
    "    plt.title(file_name)\n",
    "    # plt.savefig(\"output/timeseries/\" + file_name + \"_\" + str(n_days) + \"d.pdf\")\n",
    "    # plt.close()"
   ]
  },
  {
   "cell_type": "code",
   "execution_count": null,
   "metadata": {},
   "outputs": [],
   "source": [
    "parties = [\n",
    "    \"Fratelli d'Italia\",\n",
    "    \"Lega - Salvini Premier\",\n",
    "    \"MoVimento 5 Stelle\",\n",
    "    \"Partito Democratico\",\n",
    "]\n",
    "politicians = [\n",
    "    \"Giorgia Meloni\",\n",
    "    \"Giuseppe Conte\",\n",
    "    \"Luigi Di Maio\",\n",
    "    \"Matteo Salvini\",\n",
    "    \"Nicola Fratoianni\",\n",
    "]"
   ]
  },
  {
   "cell_type": "code",
   "execution_count": null,
   "metadata": {},
   "outputs": [],
   "source": [
    "plot_ma(account_rolling_map, N_DAYS, parties, \"parties_mean_engagement\")\n",
    "plot_ma(account_rolling_map, N_DAYS, politicians, \"politicians_mean_engagement\")\n",
    "plot_ma(account_df_delta_map_final, N_DAYS, parties, \"politicians_delta_engagement\")\n",
    "plot_ma(account_df_delta_map_final, N_DAYS, politicians, \"parties_delta_engagement\")"
   ]
  },
  {
   "cell_type": "markdown",
   "metadata": {},
   "source": [
    "for name, df in account_df_delta_map_final.items():\n",
    "    plot_ma(\n",
    "        account_df_delta_map_final, N_DAYS, [name], \"{}_delta_engagement\".format(name)\n",
    "    )\n",
    "\n",
    "for name, df in account_rolling_map.items():\n",
    "    plot_ma(account_rolling_map, N_DAYS, [name], \"{}_mean_engagement\".format(name))"
   ]
  },
  {
   "cell_type": "code",
   "execution_count": null,
   "metadata": {},
   "outputs": [],
   "source": [
    "for name, df in account_df_delta_map_final.items():\n",
    "    print(name)\n",
    "    print(len(df))\n",
    "    print(\"=\" * 75)"
   ]
  },
  {
   "cell_type": "markdown",
   "metadata": {},
   "source": [
    "### Experiments"
   ]
  },
  {
   "cell_type": "code",
   "execution_count": null,
   "metadata": {},
   "outputs": [],
   "source": [
    "# df_time_series_simple"
   ]
  },
  {
   "cell_type": "code",
   "execution_count": null,
   "metadata": {},
   "outputs": [],
   "source": [
    "# df_time_series = df_time_series.set_index(\"date\")"
   ]
  },
  {
   "cell_type": "code",
   "execution_count": null,
   "metadata": {},
   "outputs": [],
   "source": [
    "# df_time_series = df_time_series.sort_index()"
   ]
  },
  {
   "cell_type": "code",
   "execution_count": null,
   "metadata": {},
   "outputs": [],
   "source": [
    "# groups_by_id = df_time_series.groupby([\"id\"])"
   ]
  },
  {
   "cell_type": "code",
   "execution_count": null,
   "metadata": {},
   "outputs": [],
   "source": [
    "# Dict con chiave = date e valore => dict con chiave = nome_account e valore = lista di id_post pubblicati in quella data ()\n",
    "# a quel punto parto dalla data minore, e da li costruisco finestre di 7 giorni. Per ogni giorno, l'engagement finale è dato\n",
    "# dalla media rispetto a tutti i post a partire dall'inizio della finestra settimanale fino a quel giorno"
   ]
  }
 ],
 "metadata": {
  "kernelspec": {
   "display_name": "ricerca",
   "language": "python",
   "name": "ricerca"
  },
  "language_info": {
   "codemirror_mode": {
    "name": "ipython",
    "version": 3
   },
   "file_extension": ".py",
   "mimetype": "text/x-python",
   "name": "python",
   "nbconvert_exporter": "python",
   "pygments_lexer": "ipython3",
   "version": "3.7.9"
  }
 },
 "nbformat": 4,
 "nbformat_minor": 4
}
