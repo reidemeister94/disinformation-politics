{
 "cells": [
  {
   "cell_type": "code",
   "execution_count": 1,
   "metadata": {},
   "outputs": [],
   "source": [
    "%load_ext lab_black"
   ]
  },
  {
   "cell_type": "code",
   "execution_count": 2,
   "metadata": {},
   "outputs": [],
   "source": [
    "# Set the figure size - handy for larger output\n",
    "from matplotlib import pyplot as plt\n",
    "import matplotlib.backends.backend_pdf\n",
    "import pandas as pd\n",
    "from dateutil import parser\n",
    "\n",
    "plt.rcParams[\"figure.figsize\"] = [10, 6]\n",
    "# Set up with a higher resolution screen (useful on Mac)\n",
    "%config InlineBackend.figure_format = 'retina'"
   ]
  },
  {
   "cell_type": "code",
   "execution_count": 3,
   "metadata": {},
   "outputs": [],
   "source": [
    "TYPE_PAGE_LIST = [\"news\", \"politicians\"]\n",
    "TYPE_SOCIAL_LIST = [\"facebook\", \"instagram\"]\n",
    "COUNTRY_PAGE_LIST = [\"austria\", \"italy\", \"uk\"]\n",
    "\n",
    "MONTHS_2019 = {\"dec\": 12}\n",
    "MONTHS_2020 = {\n",
    "    \"jan\": 1,\n",
    "    \"feb\": 2,\n",
    "    \"mar\": 3,\n",
    "    \"apr\": 4,\n",
    "    \"may\": 5,\n",
    "    \"jun\": 6,\n",
    "    \"jul\": 7,\n",
    "}\n",
    "\n",
    "DATA_PATH = \"Data/\"\n",
    "\n",
    "COLUMNS_TYPES_FB = {}\n",
    "COLUMNS_TYPES_IG = {}"
   ]
  },
  {
   "cell_type": "markdown",
   "metadata": {},
   "source": [
    "## Read Data"
   ]
  },
  {
   "cell_type": "code",
   "execution_count": 4,
   "metadata": {},
   "outputs": [],
   "source": [
    "df_map = {}\n",
    "df_months_map = {\n",
    "    \"dec\": {},\n",
    "    \"jan\": {},\n",
    "    \"feb\": {},\n",
    "    \"mar\": {},\n",
    "    \"apr\": {},\n",
    "    \"may\": {},\n",
    "    \"jun\": {},\n",
    "    \"jul\": {},\n",
    "}"
   ]
  },
  {
   "cell_type": "code",
   "execution_count": 5,
   "metadata": {},
   "outputs": [
    {
     "name": "stderr",
     "output_type": "stream",
     "text": [
      "/Users/silvio/opt/anaconda3/envs/ricerca/lib/python3.7/site-packages/dateutil/parser/_parser.py:1218: UnknownTimezoneWarning: tzname EST identified but not understood.  Pass `tzinfos` argument in order to correctly return a timezone-aware datetime.  In a future version, this will raise an exception.\n",
      "  category=UnknownTimezoneWarning)\n",
      "/Users/silvio/opt/anaconda3/envs/ricerca/lib/python3.7/site-packages/dateutil/parser/_parser.py:1218: UnknownTimezoneWarning: tzname EDT identified but not understood.  Pass `tzinfos` argument in order to correctly return a timezone-aware datetime.  In a future version, this will raise an exception.\n",
      "  category=UnknownTimezoneWarning)\n"
     ]
    }
   ],
   "source": [
    "for type_page in TYPE_PAGE_LIST:\n",
    "    for type_social in TYPE_SOCIAL_LIST:\n",
    "        for country_page in COUNTRY_PAGE_LIST:\n",
    "            df_map[\"_\".join((type_page, type_social, country_page))] = pd.read_csv(\n",
    "                DATA_PATH + \"_\".join((type_page, type_social, country_page)) + \".csv\"\n",
    "            )\n",
    "            df_map[\"_\".join((type_page, type_social, country_page))][\n",
    "                \"Created\"\n",
    "            ] = df_map[\"_\".join((type_page, type_social, country_page))][\n",
    "                \"Created\"\n",
    "            ].apply(\n",
    "                lambda x: parser.parse(x)\n",
    "            )"
   ]
  },
  {
   "cell_type": "code",
   "execution_count": null,
   "metadata": {},
   "outputs": [],
   "source": [
    "df_map[\"news_facebook_uk\"].head()"
   ]
  },
  {
   "cell_type": "markdown",
   "metadata": {},
   "source": [
    "### Create DFs Map per Month"
   ]
  },
  {
   "cell_type": "code",
   "execution_count": null,
   "metadata": {},
   "outputs": [],
   "source": [
    "for name_df, df in df_map.items():\n",
    "    df_months_map[list(MONTHS_2019.keys())[0]][name_df] = df_map[name_df][\n",
    "        (df_map[name_df][\"Created\"] >= \"2019-12-01\")\n",
    "        & (df_map[name_df][\"Created\"] < \"2020-01-01\")\n",
    "    ]\n",
    "\n",
    "for name_df, df in df_map.items():\n",
    "    for month in MONTHS_2020.keys():\n",
    "        df_months_map[month][name_df] = df_map[name_df][\n",
    "            (df_map[name_df][\"Created\"] >= \"2020-{}-01\".format(MONTHS_2020[month]))\n",
    "            & (df_map[name_df][\"Created\"] < \"2020-{}-01\".format(MONTHS_2020[month] + 1))\n",
    "        ]"
   ]
  },
  {
   "cell_type": "markdown",
   "metadata": {},
   "source": [
    "### Create Lists for plotting bar charts"
   ]
  },
  {
   "cell_type": "code",
   "execution_count": null,
   "metadata": {},
   "outputs": [],
   "source": [
    "lists_months_map = {\n",
    "    \"dec\": {},\n",
    "    \"jan\": {},\n",
    "    \"feb\": {},\n",
    "    \"mar\": {},\n",
    "    \"apr\": {},\n",
    "    \"may\": {},\n",
    "    \"jun\": {},\n",
    "    \"jul\": {},\n",
    "}"
   ]
  },
  {
   "cell_type": "code",
   "execution_count": null,
   "metadata": {},
   "outputs": [],
   "source": [
    "def compute_metrics(df, social):\n",
    "    if social == \"instagram\":\n",
    "        mean_followers = df[\"Followers at Posting\"].mean()\n",
    "        interactions = df[\"Likes\"].sum() + df[\"Comments\"].sum()  # + df[\"Views\"].sum()\n",
    "        # print(interactions, mean_followers)\n",
    "        n_video = len(df.loc[df[\"Type\"].isin([\"Video\", \"IGTV\"])])\n",
    "        # n_video = df[(df[\"Type\"] == \"Video\") or (df[\"Type\"] == \"IGTV\")].count()\n",
    "        video_total_views = df[\"Views\"].sum() / 100000\n",
    "        # computed_df = df[['a','d']]\n",
    "    else:\n",
    "        mean_followers = df[\"Likes at Posting\"].mean()\n",
    "        interactions = (\n",
    "            df[\"Likes\"].sum()\n",
    "            + df[\"Comments\"].sum()\n",
    "            + df[\"Shares\"].sum()\n",
    "            + df[\"Love\"].sum()\n",
    "            + df[\"Wow\"].sum()\n",
    "            + df[\"Haha\"].sum()\n",
    "            + df[\"Sad\"].sum()\n",
    "            + df[\"Angry\"].sum()\n",
    "            + df[\"Care\"].sum()\n",
    "        ) \n",
    "        # print(interactions, mean_followers)\n",
    "        n_video = len(df.loc[df[\"Type\"].isin([\"Video\", \"Native Video\"])])\n",
    "        # n_video = df[(df[\"Type\"] == \"Video\") or (df[\"Type\"] == \"IGTV\")].count()\n",
    "        video_total_views = df[\"Post Views\"].sum() / 100000\n",
    "        # computed_df = df[['a','d']]\n",
    "    engagement = (interactions / mean_followers) * 100\n",
    "    return engagement, n_video, video_total_views"
   ]
  },
  {
   "cell_type": "code",
   "execution_count": null,
   "metadata": {},
   "outputs": [],
   "source": [
    "# per ogni mese, prendo ogni df di quel mese e calcolo per ogni pagina:\n",
    "# - la somma totale di likes,comments,shares\n",
    "# - la media dei followers/likes alla pagina durante il mese ->\n",
    "# questi primi due per il calcolo dell'engagement\n",
    "# - numero di video condivisi\n",
    "# - numero totale di views dei video\n",
    "# creo le liste -> [nomi pagine], [engagement], [numero di video condivisi], [numero views video]\n",
    "i = 0\n",
    "for month, df_map_month in df_months_map.items():\n",
    "    for df_name, df_data in df_map_month.items():\n",
    "        lists_months_map[month][df_name] = {\n",
    "            \"page_names\": [],\n",
    "            \"engagements\": [],\n",
    "            \"share_videos\": [],\n",
    "            \"video_views\": [],\n",
    "        }\n",
    "        social_type = df_name.split(\"_\")[1]\n",
    "        # print(social_type)\n",
    "        if social_type == \"instagram\":\n",
    "            df_data = df_data.drop(\n",
    "                [\n",
    "                    \"Photo\",\n",
    "                    \"Title\",\n",
    "                    \"Description\",\n",
    "                    \"Image Text\",\n",
    "                    \"Sponsor Id\",\n",
    "                    \"Sponsor Name\",\n",
    "                ],\n",
    "                axis=1,\n",
    "            )\n",
    "            grouped = df_data.groupby(\n",
    "                [\"Account\"]\n",
    "            )  # .apply(lambda row: compute_metrics(row))\n",
    "        else:\n",
    "            df_data = df_data.drop(\n",
    "                [\n",
    "                    \"Video Length\",\n",
    "                    \"Message\",\n",
    "                    \"Link\",\n",
    "                    \"Final Link\",\n",
    "                    \"Image Text\",\n",
    "                    \"Link Text\",\n",
    "                    \"Description\",\n",
    "                    \"Sponsor Id\",\n",
    "                    \"Sponsor Name\",\n",
    "                ],\n",
    "                axis=1,\n",
    "            )\n",
    "            grouped = df_data.groupby([\"Page Name\"])\n",
    "        for name, group in grouped:\n",
    "            engagement, n_video, video_total_views = compute_metrics(group, social_type)\n",
    "            lists_months_map[month][df_name][\"page_names\"].append(name)\n",
    "            lists_months_map[month][df_name][\"engagements\"].append(engagement)\n",
    "            lists_months_map[month][df_name][\"share_videos\"].append(n_video)\n",
    "            lists_months_map[month][df_name][\"video_views\"].append(video_total_views)"
   ]
  },
  {
   "cell_type": "code",
   "execution_count": null,
   "metadata": {},
   "outputs": [],
   "source": [
    "figures = {\n",
    "    \"dec\": {\"instagram\": [], \"facebook\": []},\n",
    "    \"jan\": {\"instagram\": [], \"facebook\": []},\n",
    "    \"feb\": {\"instagram\": [], \"facebook\": []},\n",
    "    \"mar\": {\"instagram\": [], \"facebook\": []},\n",
    "    \"apr\": {\"instagram\": [], \"facebook\": []},\n",
    "    \"may\": {\"instagram\": [], \"facebook\": []},\n",
    "    \"jun\": {\"instagram\": [], \"facebook\": []},\n",
    "    \"jul\": {\"instagram\": [], \"facebook\": []},\n",
    "}"
   ]
  },
  {
   "cell_type": "markdown",
   "metadata": {},
   "source": [
    "### 2019 Plots"
   ]
  },
  {
   "cell_type": "code",
   "execution_count": null,
   "metadata": {},
   "outputs": [],
   "source": [
    "month = \"December 2019\"\n",
    "for name_df, lists_map in lists_months_map[\"dec\"].items():\n",
    "    country = name_df.split(\"_\")[2]\n",
    "    social_ = name_df.split(\"_\")[1]\n",
    "    pages_names = lists_map[\"page_names\"]\n",
    "    engagements = lists_map[\"engagements\"]\n",
    "    share_videos = lists_map[\"share_videos\"]\n",
    "    video_views = lists_map[\"video_views\"]\n",
    "    df = pd.DataFrame(\n",
    "        {\n",
    "            \"engagement (% rate)\": engagements,\n",
    "            \"n. video shared\": share_videos,\n",
    "            \"video views (100k)\": video_views,\n",
    "        },\n",
    "        index=pages_names,\n",
    "    )\n",
    "    ax = df.sort_values(\"engagement (% rate)\", ascending=False).plot(\n",
    "        kind=\"bar\",\n",
    "        title=\"{} - {}, {}\".format(month, social_.capitalize(), country.capitalize()),\n",
    "        rot=90,\n",
    "    )\n",
    "    figures[\"dec\"][social_].append(ax)"
   ]
  },
  {
   "cell_type": "markdown",
   "metadata": {},
   "source": [
    "### 2020 Plots"
   ]
  },
  {
   "cell_type": "code",
   "execution_count": null,
   "metadata": {},
   "outputs": [],
   "source": [
    "months_2020_complete = {\n",
    "    \"January 2020\": \"jan\",\n",
    "    \"February 2020\": \"feb\",\n",
    "    \"March 2020\": \"mar\",\n",
    "    \"April 2020\": \"apr\",\n",
    "    \"May 2020\": \"may\",\n",
    "    \"June 2020\": \"jun\",\n",
    "    \"July 2020\": \"jul\",\n",
    "}\n",
    "for month_title, month_cut in months_2020_complete.items():\n",
    "    for name_df, lists_map in lists_months_map[month_cut].items():\n",
    "        country = name_df.split(\"_\")[2]\n",
    "        social_ = name_df.split(\"_\")[1]\n",
    "        pages_names = lists_map[\"page_names\"]\n",
    "        engagements = lists_map[\"engagements\"]\n",
    "        share_videos = lists_map[\"share_videos\"]\n",
    "        video_views = lists_map[\"video_views\"]\n",
    "        df = pd.DataFrame(\n",
    "            {\n",
    "                \"engagement (% rate)\": engagements,\n",
    "                \"n. video shared\": share_videos,\n",
    "                \"video views (100k)\": video_views,\n",
    "            },\n",
    "            index=pages_names,\n",
    "        )\n",
    "        if len(df) > 0:\n",
    "            ax = df.sort_values(\"engagement (% rate)\", ascending=False).plot(\n",
    "                kind=\"bar\",\n",
    "                title=\"{} - {}, {}\".format(\n",
    "                    month_title, social_.capitalize(), country.capitalize()\n",
    "                ),\n",
    "                rot=90,\n",
    "            )\n",
    "            figures[month_cut][social_].append(ax)"
   ]
  },
  {
   "cell_type": "markdown",
   "metadata": {},
   "source": [
    "### Generate Final PDFs"
   ]
  },
  {
   "cell_type": "code",
   "execution_count": null,
   "metadata": {},
   "outputs": [],
   "source": [
    "for month, socials in figures.items():\n",
    "    for social, plots in socials.items():\n",
    "        if month == \"dec\":\n",
    "            name_file = \"Output/2019_{}_{}.pdf\".format(month, social)\n",
    "        else:\n",
    "            name_file = \"Output/2020_{}_{}.pdf\".format(month, social)\n",
    "        pdf = matplotlib.backends.backend_pdf.PdfPages(name_file)\n",
    "        for fig in plots:  ## will open an empty extra figure :(\n",
    "            fig = fig.get_figure()\n",
    "            # print(type(fig))\n",
    "            pdf.savefig(fig, bbox_inches=\"tight\")\n",
    "        pdf.close()"
   ]
  },
  {
   "cell_type": "markdown",
   "metadata": {},
   "source": [
    "## Top-10 Performing Posts per Page"
   ]
  },
  {
   "cell_type": "code",
   "execution_count": 23,
   "metadata": {},
   "outputs": [],
   "source": [
    "def get_best_posts(df, social_type):\n",
    "    if social_type == \"instagram\":\n",
    "        df[\"interactions\"] = df[\"Likes\"] + df[\"Comments\"]\n",
    "        df = df.sort_values(\n",
    "            by=[\"interactions\", \"Overperforming Score\"], ascending=False\n",
    "        ).iloc[0:10]\n",
    "    else:\n",
    "        df[\"interactions\"] = (\n",
    "            df[\"Likes\"]\n",
    "            + df[\"Comments\"]\n",
    "            + df[\"Shares\"]\n",
    "            + df[\"Love\"]\n",
    "            + df[\"Haha\"]\n",
    "            + df[\"Wow\"]\n",
    "            + df[\"Sad\"]\n",
    "            + df[\"Care\"]\n",
    "            + df[\"Angry\"]\n",
    "        )\n",
    "        df = df.sort_values(\n",
    "            by=[\"interactions\", \"Overperforming Score\"], ascending=False\n",
    "        ).iloc[0:10]\n",
    "    return df"
   ]
  },
  {
   "cell_type": "code",
   "execution_count": 27,
   "metadata": {},
   "outputs": [],
   "source": [
    "df_ig_list = []\n",
    "df_fb_list = []\n",
    "for df_name, df_data in df_map.items():\n",
    "    social_type = df_name.split(\"_\")[1]\n",
    "    if social_type == \"instagram\":\n",
    "        grouped = df_data.groupby([\"Account\"])\n",
    "    else:\n",
    "        grouped = df_data.groupby([\"Page Name\"])\n",
    "    for name, group in grouped:\n",
    "        df_copy = group.copy()\n",
    "        df = get_best_posts(df_copy, social_type)\n",
    "        if social_type == \"instagram\":\n",
    "            df_ig_list.append(df)\n",
    "        else:\n",
    "            df_fb_list.append(df)\n",
    "    # print(df.head())"
   ]
  },
  {
   "cell_type": "code",
   "execution_count": 28,
   "metadata": {},
   "outputs": [],
   "source": [
    "result_ig = pd.concat(df_ig_list).reset_index()\n",
    "result_fb = pd.concat(df_fb_list).reset_index()\n",
    "\n",
    "result_ig.to_csv(\"top_10_posts_ig.csv\")\n",
    "result_fb.to_csv(\"top_10_posts_fb.csv\")"
   ]
  }
 ],
 "metadata": {
  "kernelspec": {
   "display_name": "ricerca",
   "language": "python",
   "name": "ricerca"
  },
  "language_info": {
   "codemirror_mode": {
    "name": "ipython",
    "version": 3
   },
   "file_extension": ".py",
   "mimetype": "text/x-python",
   "name": "python",
   "nbconvert_exporter": "python",
   "pygments_lexer": "ipython3",
   "version": "3.7.7"
  }
 },
 "nbformat": 4,
 "nbformat_minor": 4
}
