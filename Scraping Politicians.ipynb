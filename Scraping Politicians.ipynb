{
 "cells": [
  {
   "cell_type": "code",
   "execution_count": 1,
   "metadata": {},
   "outputs": [],
   "source": [
    "%load_ext lab_black"
   ]
  },
  {
   "cell_type": "code",
   "execution_count": 2,
   "metadata": {},
   "outputs": [],
   "source": [
    "import requests\n",
    "import time\n",
    "from datetime import datetime\n",
    "import json\n",
    "import os"
   ]
  },
  {
   "cell_type": "code",
   "execution_count": 3,
   "metadata": {},
   "outputs": [],
   "source": [
    "TOKEN = \"fv7zbjo9NLif3KI0rZMiGq4DVjx0LQ9kHgRzMFBq\"\n",
    "NUMBER_POSTS = 100\n",
    "ENDPOINT_SEARCH = \"https://api.crowdtangle.com/posts/search\"\n",
    "ERRORS_FILE_NAME = \"errors.json\"\n",
    "POSTS_FILE_NAME = \"posts.json\"\n",
    "SEARCH_TERMS = \"\"\"immigrazione,migranti,Mondragone,bulgari,Bulgaria,DecretiSicurezza,sbarchi,chiusura,frontiere,sanatoria,regolarizzazione,braccianti,campi,agricoltura,schiavi,colf,badanti,Ong,clandestini,irregolari,barconi,barchini,Sicilia,Lampedusa,Sardegna,scafisti,profughi,profugo,PortoEmpedocle,SeaWatch,CarolaRackete,MobyZaza,quarantena,porti,africani,Africa,africano,islamici,Islam,Tunisia,Libia,tunisini,libici,stranieri,chiusi,accoglienza,acque,mare,musulmani,iussoli,entrare,espulso,naufragio,chiude,centri,invasione,Marocco,marocchino,asilo,bordo,razzismo,hotel,centro,salva,blocca,nave,guardia,guardiacostiera,trafficante,sbarcare,sbarco,razzista,emergenza,allarme,confini,hotelhouse,coop,cooperativa,DonBiancalani,parrocchia,aperti,mareJonio,mareIonio,nomadi,rom,OceanViking,Augusta,cucinagatto,gattoarrostito,Costad’Avorio,straniero,grecia,lesbos\"\"\"\n",
    "\n",
    "pages_id = {\n",
    "    \"zingaretti\": 38423524033,\n",
    "    \"salvini\": 252306033154,\n",
    "    \"meloni\": 38919827644,\n",
    "    \"conte\": 383458618802776,\n",
    "}\n",
    "\n",
    "PARAMS = {\n",
    "    \"token\": TOKEN,\n",
    "    \"searchTerm\": SEARCH_TERMS,\n",
    "    \"sortBy\": \"date\",\n",
    "    \"startDate\": \"2019-12-01\",\n",
    "    # \"inAccountIds\": [38423524033,252306033154,38919827644,383458618802776],\n",
    "    \"inListIds\": 1418112,\n",
    "    \"count\": NUMBER_POSTS,\n",
    "}"
   ]
  },
  {
   "cell_type": "code",
   "execution_count": 4,
   "metadata": {},
   "outputs": [],
   "source": [
    "def read_json(file_name):\n",
    "    with open(file_name) as json_file:\n",
    "        data = json.load(json_file)\n",
    "    return data\n",
    "\n",
    "\n",
    "def write_json(data, file_name):\n",
    "    with open(file_name, \"w\") as f:\n",
    "        json.dump(data, f, indent=4)"
   ]
  },
  {
   "cell_type": "code",
   "execution_count": 5,
   "metadata": {},
   "outputs": [],
   "source": [
    "req = requests.get(ENDPOINT_SEARCH, params=PARAMS)"
   ]
  },
  {
   "cell_type": "code",
   "execution_count": 6,
   "metadata": {},
   "outputs": [],
   "source": [
    "req = req.json()\n",
    "time.sleep(10)"
   ]
  },
  {
   "cell_type": "code",
   "execution_count": 7,
   "metadata": {},
   "outputs": [],
   "source": [
    "keep_going = True\n",
    "count = 0"
   ]
  },
  {
   "cell_type": "code",
   "execution_count": 8,
   "metadata": {},
   "outputs": [
    {
     "name": "stdout",
     "output_type": "stream",
     "text": [
      "100\n"
     ]
    }
   ],
   "source": [
    "if req.get(\"result\", None) is not None and req[\"result\"].get(\"posts\", None) is not None:\n",
    "    posts = req[\"result\"][\"posts\"]\n",
    "    count += len(posts)\n",
    "    print(count)\n",
    "    if os.path.isfile(POSTS_FILE_NAME):\n",
    "        posts_json = read_json(POSTS_FILE_NAME)\n",
    "        posts_json[\"posts\"] += posts\n",
    "        write_json(posts_json, POSTS_FILE_NAME)\n",
    "    else:\n",
    "        write_json({\"posts\": posts}, POSTS_FILE_NAME)\n",
    "else:\n",
    "    now = datetime.now()\n",
    "    # dd/mm/YY H:M:S\n",
    "    dt_string = now.strftime(\"%d/%m/%Y-%H:%M:%S\")\n",
    "    if os.path.isfile(ERRORS_FILE_NAME):\n",
    "        errors_json = read_json(ERRORS_FILE_NAME)\n",
    "        errors_json[\"timestampError\"] = dt_string\n",
    "        write_json(errors_json, ERRORS_FILE_NAME)\n",
    "    else:\n",
    "        req[\"timestampError\"] = dt_string\n",
    "        write_json(req, ERRORS_FILE_NAME)"
   ]
  },
  {
   "cell_type": "code",
   "execution_count": 9,
   "metadata": {},
   "outputs": [
    {
     "name": "stdout",
     "output_type": "stream",
     "text": [
      "200\n",
      "300\n",
      "400\n",
      "500\n",
      "600\n",
      "700\n",
      "800\n",
      "900\n",
      "1000\n",
      "1100\n",
      "1200\n",
      "1300\n",
      "1400\n",
      "1500\n",
      "1600\n",
      "1682\n"
     ]
    }
   ],
   "source": [
    "while keep_going:\n",
    "    if (\n",
    "        req.get(\"result\", None) is not None\n",
    "        and req[\"result\"].get(\"pagination\", None) is not None\n",
    "        and req[\"result\"][\"pagination\"].get(\"nextPage\", None) is not None\n",
    "        and req[\"result\"].get(\"posts\", None) is not None\n",
    "    ):\n",
    "        req = requests.get(req[\"result\"][\"pagination\"][\"nextPage\"]).json()\n",
    "        # print(req)\n",
    "        posts = req[\"result\"][\"posts\"]\n",
    "        count += len(posts)\n",
    "        print(count)\n",
    "        if os.path.isfile(POSTS_FILE_NAME):\n",
    "            posts_json = read_json(POSTS_FILE_NAME)\n",
    "            posts_json[\"posts\"] += posts\n",
    "            write_json(posts_json, POSTS_FILE_NAME)\n",
    "        else:\n",
    "            write_json({\"posts\": posts}, POSTS_FILE_NAME)\n",
    "    else:\n",
    "        now = datetime.now()\n",
    "        # dd/mm/YY H:M:S\n",
    "        dt_string = now.strftime(\"%d/%m/%Y-%H:%M:%S\")\n",
    "        if os.path.isfile(ERRORS_FILE_NAME):\n",
    "            errors_json = read_json(ERRORS_FILE_NAME)\n",
    "            errors_json[\"timestampError\"] = dt_string\n",
    "            write_json(errors_json, ERRORS_FILE_NAME)\n",
    "        else:\n",
    "            req[\"timestampError\"] = dt_string\n",
    "            write_json(req, ERRORS_FILE_NAME)\n",
    "        keep_going = False\n",
    "    time.sleep(10)"
   ]
  }
 ],
 "metadata": {
  "kernelspec": {
   "display_name": "ricerca",
   "language": "python",
   "name": "ricerca"
  },
  "language_info": {
   "codemirror_mode": {
    "name": "ipython",
    "version": 3
   },
   "file_extension": ".py",
   "mimetype": "text/x-python",
   "name": "python",
   "nbconvert_exporter": "python",
   "pygments_lexer": "ipython3",
   "version": "3.7.7"
  }
 },
 "nbformat": 4,
 "nbformat_minor": 4
}
