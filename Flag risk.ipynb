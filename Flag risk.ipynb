{
 "cells": [
  {
   "cell_type": "code",
   "execution_count": 1,
   "metadata": {},
   "outputs": [],
   "source": [
    "%load_ext lab_black"
   ]
  },
  {
   "cell_type": "code",
   "execution_count": 2,
   "metadata": {},
   "outputs": [],
   "source": [
    "# Loading all necessary libraries\n",
    "import numpy as np\n",
    "import pandas as pd\n",
    "from os import path\n",
    "from PIL import Image\n",
    "from wordcloud import WordCloud, STOPWORDS, ImageColorGenerator\n",
    "from sklearn import preprocessing\n",
    "from dateutil import parser\n",
    "from collections import defaultdict\n",
    "import nltk\n",
    "from nltk.corpus import stopwords\n",
    "from nltk.tokenize import word_tokenize\n",
    "import re\n",
    "import spacy\n",
    "import matplotlib.pyplot as plt\n",
    "import matplotlib.backends.backend_pdf\n",
    "import random\n",
    "import unidecode\n",
    "import emoji\n",
    "import json\n",
    "from pprint import pprint\n",
    "import gc\n",
    "from datetime import datetime\n",
    "from datetime import timedelta\n",
    "import os\n",
    "from sklearn.feature_extraction.text import CountVectorizer\n",
    "import seaborn as sns\n",
    "from dateutil import parser\n",
    "from datetime import timezone\n",
    "import pytz\n",
    "from sklearn.decomposition import LatentDirichletAllocation as LDA"
   ]
  },
  {
   "cell_type": "code",
   "execution_count": 4,
   "metadata": {},
   "outputs": [],
   "source": [
    "TYPE_PAGE_LIST = [\"politicians\"]\n",
    "TYPE_SOCIAL_LIST = [\"facebook\"]  # [\"facebook\", \"instagram\"]\n",
    "COUNTRY_PAGE_LIST = [\"italy\"]\n",
    "\n",
    "DATA_PATH = \"data/\"\n",
    "OUTPUT_PATH = \"output/\"\n",
    "\n",
    "COLUMNS_TYPES_FB = {}\n",
    "COLUMNS_TYPES_IG = {}"
   ]
  },
  {
   "cell_type": "code",
   "execution_count": 5,
   "metadata": {},
   "outputs": [],
   "source": [
    "with open(DATA_PATH + \"risk_keywords_month.json\") as json_file:\n",
    "    risk_words_list = json.load(json_file)[\"risk_words\"]"
   ]
  },
  {
   "cell_type": "markdown",
   "metadata": {},
   "source": [
    "it_politicians_posts = pd.read_csv(\n",
    "    \"data_f/it_politicians_posts.csv\", dtype={\"id\": str, \"message\": str}\n",
    ")"
   ]
  },
  {
   "cell_type": "code",
   "execution_count": 29,
   "metadata": {},
   "outputs": [],
   "source": [
    "newspapers_posts = pd.read_csv(\n",
    "    \"data_f/newspapers_posts.csv\", dtype={\"id\": str, \"message\": str}\n",
    ")"
   ]
  },
  {
   "cell_type": "code",
   "execution_count": 30,
   "metadata": {},
   "outputs": [],
   "source": [
    "# it_politicians_posts = it_politicians_posts[[\"id\", \"message\"]]\n",
    "newspapers_posts = newspapers_posts[[\"id\", \"message\"]]"
   ]
  },
  {
   "cell_type": "code",
   "execution_count": 31,
   "metadata": {},
   "outputs": [
    {
     "data": {
      "text/html": [
       "<div>\n",
       "<style scoped>\n",
       "    .dataframe tbody tr th:only-of-type {\n",
       "        vertical-align: middle;\n",
       "    }\n",
       "\n",
       "    .dataframe tbody tr th {\n",
       "        vertical-align: top;\n",
       "    }\n",
       "\n",
       "    .dataframe thead th {\n",
       "        text-align: right;\n",
       "    }\n",
       "</style>\n",
       "<table border=\"1\" class=\"dataframe\">\n",
       "  <thead>\n",
       "    <tr style=\"text-align: right;\">\n",
       "      <th></th>\n",
       "      <th>id</th>\n",
       "      <th>message</th>\n",
       "    </tr>\n",
       "  </thead>\n",
       "  <tbody>\n",
       "    <tr>\n",
       "      <th>0</th>\n",
       "      <td>105142343664.0</td>\n",
       "      <td>Mai come ora, di fronte a quanto va accadendo ...</td>\n",
       "    </tr>\n",
       "    <tr>\n",
       "      <th>1</th>\n",
       "      <td>105141213303.0</td>\n",
       "      <td>Dalla struttura fuggirono in 5: erano in quara...</td>\n",
       "    </tr>\n",
       "    <tr>\n",
       "      <th>2</th>\n",
       "      <td>105139204345.0</td>\n",
       "      <td>Scongiurato lo sciopero per protestare contro ...</td>\n",
       "    </tr>\n",
       "    <tr>\n",
       "      <th>3</th>\n",
       "      <td>105139500863.0</td>\n",
       "      <td>Il Ieader della Lega all'attacco su #pensioni,...</td>\n",
       "    </tr>\n",
       "    <tr>\n",
       "      <th>4</th>\n",
       "      <td>105138335270.0</td>\n",
       "      <td>In un film di propaganda il presidente celebra...</td>\n",
       "    </tr>\n",
       "    <tr>\n",
       "      <th>...</th>\n",
       "      <td>...</td>\n",
       "      <td>...</td>\n",
       "    </tr>\n",
       "    <tr>\n",
       "      <th>9213</th>\n",
       "      <td>73984537235.0</td>\n",
       "      <td>VIDEO - Christina Bertevello, influencer e mod...</td>\n",
       "    </tr>\n",
       "    <tr>\n",
       "      <th>9214</th>\n",
       "      <td>73922201763.0</td>\n",
       "      <td>Alcuni pullman a prezzo simbolico per i sicili...</td>\n",
       "    </tr>\n",
       "    <tr>\n",
       "      <th>9215</th>\n",
       "      <td>73897226660.0</td>\n",
       "      <td>Tariffe dai dieci ai trenta euro per i giovani...</td>\n",
       "    </tr>\n",
       "    <tr>\n",
       "      <th>9216</th>\n",
       "      <td>73742976090.0</td>\n",
       "      <td>Manuel Bortuzzo, esame ok, nuova patente: «Alt...</td>\n",
       "    </tr>\n",
       "    <tr>\n",
       "      <th>9217</th>\n",
       "      <td>73667859119.0</td>\n",
       "      <td>«Nel viaggio di ritorno verso Roma guiderò un ...</td>\n",
       "    </tr>\n",
       "  </tbody>\n",
       "</table>\n",
       "<p>9218 rows × 2 columns</p>\n",
       "</div>"
      ],
      "text/plain": [
       "                  id                                            message\n",
       "0     105142343664.0  Mai come ora, di fronte a quanto va accadendo ...\n",
       "1     105141213303.0  Dalla struttura fuggirono in 5: erano in quara...\n",
       "2     105139204345.0  Scongiurato lo sciopero per protestare contro ...\n",
       "3     105139500863.0  Il Ieader della Lega all'attacco su #pensioni,...\n",
       "4     105138335270.0  In un film di propaganda il presidente celebra...\n",
       "...              ...                                                ...\n",
       "9213   73984537235.0  VIDEO - Christina Bertevello, influencer e mod...\n",
       "9214   73922201763.0  Alcuni pullman a prezzo simbolico per i sicili...\n",
       "9215   73897226660.0  Tariffe dai dieci ai trenta euro per i giovani...\n",
       "9216   73742976090.0  Manuel Bortuzzo, esame ok, nuova patente: «Alt...\n",
       "9217   73667859119.0  «Nel viaggio di ritorno verso Roma guiderò un ...\n",
       "\n",
       "[9218 rows x 2 columns]"
      ]
     },
     "execution_count": 31,
     "metadata": {},
     "output_type": "execute_result"
    }
   ],
   "source": [
    "newspapers_posts"
   ]
  },
  {
   "cell_type": "code",
   "execution_count": 32,
   "metadata": {},
   "outputs": [],
   "source": [
    "def check_risk(row):\n",
    "    for word in risk_words_list:\n",
    "        if word in row[\"message\"].lower():\n",
    "            return True\n",
    "    return False"
   ]
  },
  {
   "cell_type": "code",
   "execution_count": 33,
   "metadata": {},
   "outputs": [],
   "source": [
    "newspapers_posts[\"risk_flag\"] = newspapers_posts.apply(\n",
    "    lambda row: check_risk(row), axis=1\n",
    ")\n",
    "# it_politicians_posts[\"risk_flag\"] = it_politicians_posts.apply(\n",
    "#    lambda row: check_risk(row), axis=1\n",
    "# )"
   ]
  },
  {
   "cell_type": "code",
   "execution_count": 34,
   "metadata": {},
   "outputs": [],
   "source": [
    "newspapers_posts.to_csv(\"newspapers_posts_risk_flag.csv\")"
   ]
  }
 ],
 "metadata": {
  "kernelspec": {
   "display_name": "ricerca",
   "language": "python",
   "name": "ricerca"
  },
  "language_info": {
   "codemirror_mode": {
    "name": "ipython",
    "version": 3
   },
   "file_extension": ".py",
   "mimetype": "text/x-python",
   "name": "python",
   "nbconvert_exporter": "python",
   "pygments_lexer": "ipython3",
   "version": "3.7.9"
  }
 },
 "nbformat": 4,
 "nbformat_minor": 4
}
