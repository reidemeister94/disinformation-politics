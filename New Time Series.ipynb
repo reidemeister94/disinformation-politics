{
 "cells": [
  {
   "cell_type": "code",
   "execution_count": 1,
   "metadata": {},
   "outputs": [],
   "source": [
    "%load_ext lab_black"
   ]
  },
  {
   "cell_type": "code",
   "execution_count": 2,
   "metadata": {},
   "outputs": [],
   "source": [
    "# Loading all necessary libraries\n",
    "import numpy as np\n",
    "import pandas as pd\n",
    "from os import path\n",
    "from PIL import Image\n",
    "from wordcloud import WordCloud, STOPWORDS, ImageColorGenerator\n",
    "from sklearn import preprocessing\n",
    "from dateutil import parser\n",
    "from collections import defaultdict\n",
    "import nltk\n",
    "from nltk.corpus import stopwords\n",
    "from nltk.tokenize import word_tokenize\n",
    "import re\n",
    "import spacy\n",
    "import matplotlib.pyplot as plt\n",
    "import matplotlib.backends.backend_pdf\n",
    "import random\n",
    "import unidecode\n",
    "import emoji\n",
    "import json\n",
    "from pprint import pprint\n",
    "import gc\n",
    "from datetime import datetime\n",
    "from datetime import timedelta\n",
    "import os\n",
    "from sklearn.feature_extraction.text import CountVectorizer\n",
    "import seaborn as sns\n",
    "from dateutil import parser\n",
    "from datetime import timezone\n",
    "import pytz\n",
    "from sklearn.decomposition import LatentDirichletAllocation as LDA"
   ]
  },
  {
   "cell_type": "code",
   "execution_count": 3,
   "metadata": {},
   "outputs": [],
   "source": [
    "%matplotlib inline\n",
    "\n",
    "# sp = spacy.load(\"it_core_news_lg\")"
   ]
  },
  {
   "cell_type": "markdown",
   "metadata": {},
   "source": [
    "### Load Input Data"
   ]
  },
  {
   "cell_type": "code",
   "execution_count": 4,
   "metadata": {},
   "outputs": [],
   "source": [
    "TYPE_PAGE_LIST = [\"politicians\"]\n",
    "TYPE_SOCIAL_LIST = [\"facebook\"]  # [\"facebook\", \"instagram\"]\n",
    "COUNTRY_PAGE_LIST = [\"italy\"]\n",
    "\n",
    "DATA_PATH = \"data/\"\n",
    "OUTPUT_PATH = \"output/\"\n",
    "\n",
    "COLUMNS_TYPES_FB = {}\n",
    "COLUMNS_TYPES_IG = {}"
   ]
  },
  {
   "cell_type": "code",
   "execution_count": 5,
   "metadata": {},
   "outputs": [],
   "source": [
    "MONTHS_2019 = {\"dec\": 12}\n",
    "MONTHS_2020 = {\n",
    "    \"jan\": 1,\n",
    "    \"feb\": 2,\n",
    "    \"mar\": 3,\n",
    "    \"apr\": 4,\n",
    "    \"may\": 5,\n",
    "    \"jun\": 6,\n",
    "    \"jul\": 7,\n",
    "    \"aug\": 8,\n",
    "}\n",
    "df_map = {}\n",
    "df_months_map = {\n",
    "    \"dec\": {},\n",
    "    \"jan\": {},\n",
    "    \"feb\": {},\n",
    "    \"mar\": {},\n",
    "    \"apr\": {},\n",
    "    \"may\": {},\n",
    "    \"jun\": {},\n",
    "    \"jul\": {},\n",
    "    \"aug\": {},\n",
    "}\n",
    "df_specific_party_map = {\n",
    "    \"dec\": {},\n",
    "    \"jan\": {},\n",
    "    \"feb\": {},\n",
    "    \"mar\": {},\n",
    "    \"apr\": {},\n",
    "    \"may\": {},\n",
    "    \"jun\": {},\n",
    "    \"jul\": {},\n",
    "    \"aug\": {},\n",
    "}\n",
    "df_pol_party_frequency_migration_map = {\n",
    "    \"dec\": {},\n",
    "    \"jan\": {},\n",
    "    \"feb\": {},\n",
    "    \"mar\": {},\n",
    "    \"apr\": {},\n",
    "    \"may\": {},\n",
    "    \"jun\": {},\n",
    "    \"jul\": {},\n",
    "    \"aug\": {},\n",
    "}\n",
    "df_pol_party_frequency_risk_map = {\n",
    "    \"dec\": {},\n",
    "    \"jan\": {},\n",
    "    \"feb\": {},\n",
    "    \"mar\": {},\n",
    "    \"apr\": {},\n",
    "    \"may\": {},\n",
    "    \"jun\": {},\n",
    "    \"jul\": {},\n",
    "    \"aug\": {},\n",
    "}\n",
    "df_pol_party_top_risk_map = {\n",
    "    \"dec\": {},\n",
    "    \"jan\": {},\n",
    "    \"feb\": {},\n",
    "    \"mar\": {},\n",
    "    \"apr\": {},\n",
    "    \"may\": {},\n",
    "    \"jun\": {},\n",
    "    \"jul\": {},\n",
    "    \"aug\": {},\n",
    "}\n",
    "lists_months_map = {\n",
    "    \"dec\": {},\n",
    "    \"jan\": {},\n",
    "    \"feb\": {},\n",
    "    \"mar\": {},\n",
    "    \"apr\": {},\n",
    "    \"may\": {},\n",
    "    \"jun\": {},\n",
    "    \"jul\": {},\n",
    "    \"aug\": {},\n",
    "}\n",
    "top_posts_map = {\n",
    "    \"dec\": {},\n",
    "    \"jan\": {},\n",
    "    \"feb\": {},\n",
    "    \"mar\": {},\n",
    "    \"apr\": {},\n",
    "    \"may\": {},\n",
    "    \"jun\": {},\n",
    "    \"jul\": {},\n",
    "    \"aug\": {},\n",
    "}\n",
    "risk_lists_months_map = {\n",
    "    \"dec\": {},\n",
    "    \"jan\": {},\n",
    "    \"feb\": {},\n",
    "    \"mar\": {},\n",
    "    \"apr\": {},\n",
    "    \"may\": {},\n",
    "    \"jun\": {},\n",
    "    \"jul\": {},\n",
    "    \"aug\": {},\n",
    "}\n",
    "risk_top_lists_months_map = {\n",
    "    \"dec\": {},\n",
    "    \"jan\": {},\n",
    "    \"feb\": {},\n",
    "    \"mar\": {},\n",
    "    \"apr\": {},\n",
    "    \"may\": {},\n",
    "    \"jun\": {},\n",
    "    \"jul\": {},\n",
    "    \"aug\": {},\n",
    "}\n",
    "\n",
    "\n",
    "post_id_range_map = {}\n",
    "account_df_map = {}\n",
    "account_df_delta_map_final = {}\n",
    "account_rolling_map = {}\n",
    "\n",
    "immigration_words_list = [\n",
    "    \"immigrazione\",\n",
    "    \"migranti\",\n",
    "    \"migrante\",\n",
    "    \"immigrato\",\n",
    "    \"immigrati\",\n",
    "    \"decreti sicurezza\",\n",
    "    \"decreto sicurezza\",\n",
    "    \"regolarizzazione\",\n",
    "    \"sanatoria\",\n",
    "    \"ong\",\n",
    "    \"clandestini\",\n",
    "    \"clandestino\",\n",
    "    \"barconi\",\n",
    "    \"barcone\",\n",
    "    \"barchini\",\n",
    "    \"lampedusa\",\n",
    "    \"scafisti\",\n",
    "    \"scafista\",\n",
    "    \"profughi\",\n",
    "    \"profugo\",\n",
    "    \"carola rackete\",\n",
    "    \"ius soli\",\n",
    "    \"naufragio\",\n",
    "    \"naufragi\",\n",
    "    \"diritto di asilo\",\n",
    "    \"guardia costiera\",\n",
    "    \"trafficante\",\n",
    "    \"trafficanti\",\n",
    "    \"sbarcare\",\n",
    "    \"sbarco\",\n",
    "    \"sbarchi\",\n",
    "    \"nomadi\",\n",
    "    \"porti\",\n",
    "    \"permessi di soggiorno\",\n",
    "    \"centri di accoglienza\",\n",
    "    \"centro di accoglienza\",\n",
    "    \"blocco navale\",\n",
    "    \"alan kurdi\",\n",
    "    \"open arms\",\n",
    "    \"gregoretti\",\n",
    "    \"ocean viking\",\n",
    "    \"sea watch\",\n",
    "    \"moby zaza\",\n",
    "    \"augusta\",\n",
    "    \"mare jonio\",\n",
    "    \"cpr\",\n",
    "    \"porto empedocle\",\n",
    "    \"rotta balcanica\",\n",
    "    \"ventimiglia\",\n",
    "    \"mondragone\",\n",
    "    \"don biancalani\",\n",
    "    \"pozzallo\",\n",
    "    \"musumeci\",\n",
    "    \"celio\",\n",
    "]"
   ]
  },
  {
   "cell_type": "code",
   "execution_count": 6,
   "metadata": {},
   "outputs": [],
   "source": [
    "red_words_list = [\n",
    "    \"africani\",\n",
    "    \"africa\",\n",
    "    \"africano\",\n",
    "    \"islamici\",\n",
    "    \"tunisini\",\n",
    "    \"libici\",\n",
    "    \"tunisia\",\n",
    "    \"libia\",\n",
    "    \"musulmani\",\n",
    "    \"irregolari\",\n",
    "    \"ricollocamenti\",\n",
    "    \"respingimenti\",\n",
    "    \"mimmo lucano\",\n",
    "    \"treviso\",\n",
    "]"
   ]
  },
  {
   "cell_type": "code",
   "execution_count": 7,
   "metadata": {},
   "outputs": [],
   "source": [
    "with open(DATA_PATH + \"risk_keywords_month.json\") as json_file:\n",
    "    risk_words_list = json.load(json_file)[\"risk_words\"]\n",
    "\n",
    "account_risk_ts_map = {}\n",
    "account_red_ts_map = {}"
   ]
  },
  {
   "cell_type": "code",
   "execution_count": 8,
   "metadata": {},
   "outputs": [],
   "source": [
    "immigration_words_list = [elem.strip().lower() for elem in immigration_words_list]"
   ]
  },
  {
   "cell_type": "code",
   "execution_count": 9,
   "metadata": {},
   "outputs": [
    {
     "name": "stderr",
     "output_type": "stream",
     "text": [
      "/Users/silvio/opt/anaconda3/envs/ricerca/lib/python3.7/site-packages/IPython/core/interactiveshell.py:3146: DtypeWarning: Columns (29) have mixed types.Specify dtype option on import or set low_memory=False.\n",
      "  interactivity=interactivity, compiler=compiler, result=result)\n"
     ]
    }
   ],
   "source": [
    "dateparse = lambda x: parser.parse(x, tzinfos={\"EDT\": \"UTC-4\", \"EST\": \"UTC-5\"})\n",
    "df_time_series = pd.read_csv(\n",
    "    \"data/politicians_facebook_italy.csv\",\n",
    "    header=0,\n",
    "    parse_dates=[\"Created\"],\n",
    "    date_parser=dateparse,\n",
    ")"
   ]
  },
  {
   "cell_type": "code",
   "execution_count": 10,
   "metadata": {},
   "outputs": [],
   "source": [
    "def fix_timezone(date_elem):\n",
    "    return date_elem.astimezone(pytz.utc)"
   ]
  },
  {
   "cell_type": "code",
   "execution_count": 11,
   "metadata": {},
   "outputs": [],
   "source": [
    "df_time_series[\"Created\"] = df_time_series[\"Created\"].apply(lambda x: fix_timezone(x))"
   ]
  },
  {
   "cell_type": "code",
   "execution_count": 12,
   "metadata": {},
   "outputs": [
    {
     "data": {
      "text/html": [
       "<div>\n",
       "<style scoped>\n",
       "    .dataframe tbody tr th:only-of-type {\n",
       "        vertical-align: middle;\n",
       "    }\n",
       "\n",
       "    .dataframe tbody tr th {\n",
       "        vertical-align: top;\n",
       "    }\n",
       "\n",
       "    .dataframe thead th {\n",
       "        text-align: right;\n",
       "    }\n",
       "</style>\n",
       "<table border=\"1\" class=\"dataframe\">\n",
       "  <thead>\n",
       "    <tr style=\"text-align: right;\">\n",
       "      <th></th>\n",
       "      <th>Page Name</th>\n",
       "      <th>User Name</th>\n",
       "      <th>Facebook Id</th>\n",
       "      <th>Likes at Posting</th>\n",
       "      <th>Created</th>\n",
       "      <th>Type</th>\n",
       "      <th>Likes</th>\n",
       "      <th>Comments</th>\n",
       "      <th>Shares</th>\n",
       "      <th>Love</th>\n",
       "      <th>...</th>\n",
       "      <th>URL</th>\n",
       "      <th>Message</th>\n",
       "      <th>Link</th>\n",
       "      <th>Final Link</th>\n",
       "      <th>Image Text</th>\n",
       "      <th>Link Text</th>\n",
       "      <th>Description</th>\n",
       "      <th>Sponsor Id</th>\n",
       "      <th>Sponsor Name</th>\n",
       "      <th>Overperforming Score</th>\n",
       "    </tr>\n",
       "  </thead>\n",
       "  <tbody>\n",
       "    <tr>\n",
       "      <th>0</th>\n",
       "      <td>Lega - Salvini Premier</td>\n",
       "      <td>legasalvinipremier</td>\n",
       "      <td>422703967772535</td>\n",
       "      <td>764369</td>\n",
       "      <td>2020-09-01 13:36:22+00:00</td>\n",
       "      <td>Photo</td>\n",
       "      <td>3</td>\n",
       "      <td>0</td>\n",
       "      <td>1</td>\n",
       "      <td>0</td>\n",
       "      <td>...</td>\n",
       "      <td>https://www.facebook.com/legasalvinipremier/po...</td>\n",
       "      <td>IL MESSAGGIO A SALVINI DI PIA KLEMP, LA CAPITA...</td>\n",
       "      <td>https://www.facebook.com/legasalvinipremier/ph...</td>\n",
       "      <td>NaN</td>\n",
       "      <td>@LegaSalviniPremier Süddeutsche Zeitung II tuo...</td>\n",
       "      <td>NaN</td>\n",
       "      <td>NaN</td>\n",
       "      <td>NaN</td>\n",
       "      <td>NaN</td>\n",
       "      <td>-17.25</td>\n",
       "    </tr>\n",
       "    <tr>\n",
       "      <th>1</th>\n",
       "      <td>MoVimento 5 Stelle</td>\n",
       "      <td>movimentocinquestelle</td>\n",
       "      <td>174457180812</td>\n",
       "      <td>1478039</td>\n",
       "      <td>2020-09-01 13:33:59+00:00</td>\n",
       "      <td>Link</td>\n",
       "      <td>0</td>\n",
       "      <td>0</td>\n",
       "      <td>0</td>\n",
       "      <td>0</td>\n",
       "      <td>...</td>\n",
       "      <td>https://www.facebook.com/movimentocinquestelle...</td>\n",
       "      <td>Oggi alla sorella di Alessandro Cannavacciuolo...</td>\n",
       "      <td>https://www.ilblogdellestelle.it/2020/09/la-so...</td>\n",
       "      <td>NaN</td>\n",
       "      <td>NaN</td>\n",
       "      <td>La solidarietà del MoVimento ad Alessandro Can...</td>\n",
       "      <td>Alessandro Cannavacciuolo è un ragazzo che da ...</td>\n",
       "      <td>NaN</td>\n",
       "      <td>NaN</td>\n",
       "      <td>-60</td>\n",
       "    </tr>\n",
       "    <tr>\n",
       "      <th>2</th>\n",
       "      <td>Lega - Salvini Premier</td>\n",
       "      <td>legasalvinipremier</td>\n",
       "      <td>422703967772535</td>\n",
       "      <td>764369</td>\n",
       "      <td>2020-09-01 13:31:01+00:00</td>\n",
       "      <td>Photo</td>\n",
       "      <td>46</td>\n",
       "      <td>1</td>\n",
       "      <td>2</td>\n",
       "      <td>2</td>\n",
       "      <td>...</td>\n",
       "      <td>https://www.facebook.com/legasalvinipremier/po...</td>\n",
       "      <td>MENO 19 GIORNI! #IOVOTOLEGA Anche in Puglia, d...</td>\n",
       "      <td>https://www.facebook.com/legasalvinipremier/ph...</td>\n",
       "      <td>NaN</td>\n",
       "      <td>DOMENICA 20SETTEMBRE DALLE 7 ALLE 23 LUNEDÌ 21...</td>\n",
       "      <td>Timeline Photos</td>\n",
       "      <td>NaN</td>\n",
       "      <td>NaN</td>\n",
       "      <td>NaN</td>\n",
       "      <td>-1.33</td>\n",
       "    </tr>\n",
       "    <tr>\n",
       "      <th>3</th>\n",
       "      <td>Lega - Salvini Premier</td>\n",
       "      <td>legasalvinipremier</td>\n",
       "      <td>422703967772535</td>\n",
       "      <td>764369</td>\n",
       "      <td>2020-09-01 13:28:55+00:00</td>\n",
       "      <td>Photo</td>\n",
       "      <td>54</td>\n",
       "      <td>26</td>\n",
       "      <td>53</td>\n",
       "      <td>1</td>\n",
       "      <td>...</td>\n",
       "      <td>https://www.facebook.com/legasalvinipremier/po...</td>\n",
       "      <td>217 IMMIGRATI CLANDESTINI PORTATI DA LAMPEDUSA...</td>\n",
       "      <td>https://www.facebook.com/legasalvinipremier/ph...</td>\n",
       "      <td>NaN</td>\n",
       "      <td>NaN</td>\n",
       "      <td>NaN</td>\n",
       "      <td>NaN</td>\n",
       "      <td>NaN</td>\n",
       "      <td>NaN</td>\n",
       "      <td>3.26</td>\n",
       "    </tr>\n",
       "    <tr>\n",
       "      <th>4</th>\n",
       "      <td>Lega - Salvini Premier</td>\n",
       "      <td>legasalvinipremier</td>\n",
       "      <td>422703967772535</td>\n",
       "      <td>764369</td>\n",
       "      <td>2020-09-01 13:21:53+00:00</td>\n",
       "      <td>Link</td>\n",
       "      <td>15</td>\n",
       "      <td>11</td>\n",
       "      <td>5</td>\n",
       "      <td>0</td>\n",
       "      <td>...</td>\n",
       "      <td>https://www.facebook.com/legasalvinipremier/po...</td>\n",
       "      <td>LE ACCUSE DEL LEADER ISLAMICO: CRISTIANI ED EB...</td>\n",
       "      <td>https://www.ilgiornale.it/news/cronache/segret...</td>\n",
       "      <td>NaN</td>\n",
       "      <td>NaN</td>\n",
       "      <td>Le accuse del leader islamico: cristiani ed eb...</td>\n",
       "      <td>Le parole sconcertanti pubblicate su Facebook ...</td>\n",
       "      <td>NaN</td>\n",
       "      <td>NaN</td>\n",
       "      <td>-3.22</td>\n",
       "    </tr>\n",
       "  </tbody>\n",
       "</table>\n",
       "<p>5 rows × 30 columns</p>\n",
       "</div>"
      ],
      "text/plain": [
       "                Page Name              User Name      Facebook Id  \\\n",
       "0  Lega - Salvini Premier     legasalvinipremier  422703967772535   \n",
       "1      MoVimento 5 Stelle  movimentocinquestelle     174457180812   \n",
       "2  Lega - Salvini Premier     legasalvinipremier  422703967772535   \n",
       "3  Lega - Salvini Premier     legasalvinipremier  422703967772535   \n",
       "4  Lega - Salvini Premier     legasalvinipremier  422703967772535   \n",
       "\n",
       "   Likes at Posting                   Created   Type  Likes  Comments  Shares  \\\n",
       "0            764369 2020-09-01 13:36:22+00:00  Photo      3         0       1   \n",
       "1           1478039 2020-09-01 13:33:59+00:00   Link      0         0       0   \n",
       "2            764369 2020-09-01 13:31:01+00:00  Photo     46         1       2   \n",
       "3            764369 2020-09-01 13:28:55+00:00  Photo     54        26      53   \n",
       "4            764369 2020-09-01 13:21:53+00:00   Link     15        11       5   \n",
       "\n",
       "   Love  ...                                                URL  \\\n",
       "0     0  ...  https://www.facebook.com/legasalvinipremier/po...   \n",
       "1     0  ...  https://www.facebook.com/movimentocinquestelle...   \n",
       "2     2  ...  https://www.facebook.com/legasalvinipremier/po...   \n",
       "3     1  ...  https://www.facebook.com/legasalvinipremier/po...   \n",
       "4     0  ...  https://www.facebook.com/legasalvinipremier/po...   \n",
       "\n",
       "                                             Message  \\\n",
       "0  IL MESSAGGIO A SALVINI DI PIA KLEMP, LA CAPITA...   \n",
       "1  Oggi alla sorella di Alessandro Cannavacciuolo...   \n",
       "2  MENO 19 GIORNI! #IOVOTOLEGA Anche in Puglia, d...   \n",
       "3  217 IMMIGRATI CLANDESTINI PORTATI DA LAMPEDUSA...   \n",
       "4  LE ACCUSE DEL LEADER ISLAMICO: CRISTIANI ED EB...   \n",
       "\n",
       "                                                Link  Final Link  \\\n",
       "0  https://www.facebook.com/legasalvinipremier/ph...         NaN   \n",
       "1  https://www.ilblogdellestelle.it/2020/09/la-so...         NaN   \n",
       "2  https://www.facebook.com/legasalvinipremier/ph...         NaN   \n",
       "3  https://www.facebook.com/legasalvinipremier/ph...         NaN   \n",
       "4  https://www.ilgiornale.it/news/cronache/segret...         NaN   \n",
       "\n",
       "                                          Image Text  \\\n",
       "0  @LegaSalviniPremier Süddeutsche Zeitung II tuo...   \n",
       "1                                                NaN   \n",
       "2  DOMENICA 20SETTEMBRE DALLE 7 ALLE 23 LUNEDÌ 21...   \n",
       "3                                                NaN   \n",
       "4                                                NaN   \n",
       "\n",
       "                                           Link Text  \\\n",
       "0                                                NaN   \n",
       "1  La solidarietà del MoVimento ad Alessandro Can...   \n",
       "2                                    Timeline Photos   \n",
       "3                                                NaN   \n",
       "4  Le accuse del leader islamico: cristiani ed eb...   \n",
       "\n",
       "                                         Description  Sponsor Id  \\\n",
       "0                                                NaN         NaN   \n",
       "1  Alessandro Cannavacciuolo è un ragazzo che da ...         NaN   \n",
       "2                                                NaN         NaN   \n",
       "3                                                NaN         NaN   \n",
       "4  Le parole sconcertanti pubblicate su Facebook ...         NaN   \n",
       "\n",
       "   Sponsor Name Overperforming Score  \n",
       "0           NaN               -17.25  \n",
       "1           NaN                  -60  \n",
       "2           NaN                -1.33  \n",
       "3           NaN                 3.26  \n",
       "4           NaN                -3.22  \n",
       "\n",
       "[5 rows x 30 columns]"
      ]
     },
     "execution_count": 12,
     "metadata": {},
     "output_type": "execute_result"
    }
   ],
   "source": [
    "df_time_series.head()"
   ]
  },
  {
   "cell_type": "code",
   "execution_count": 13,
   "metadata": {},
   "outputs": [
    {
     "data": {
      "text/plain": [
       "Page Name                                      object\n",
       "User Name                                      object\n",
       "Facebook Id                                     int64\n",
       "Likes at Posting                                int64\n",
       "Created                           datetime64[ns, UTC]\n",
       "Type                                           object\n",
       "Likes                                           int64\n",
       "Comments                                        int64\n",
       "Shares                                          int64\n",
       "Love                                            int64\n",
       "Wow                                             int64\n",
       "Haha                                            int64\n",
       "Sad                                             int64\n",
       "Angry                                           int64\n",
       "Care                                            int64\n",
       "Video Share Status                             object\n",
       "Post Views                                      int64\n",
       "Total Views                                     int64\n",
       "Total Views For All Crossposts                  int64\n",
       "Video Length                                   object\n",
       "URL                                            object\n",
       "Message                                        object\n",
       "Link                                           object\n",
       "Final Link                                     object\n",
       "Image Text                                     object\n",
       "Link Text                                      object\n",
       "Description                                    object\n",
       "Sponsor Id                                    float64\n",
       "Sponsor Name                                  float64\n",
       "Overperforming Score                           object\n",
       "dtype: object"
      ]
     },
     "execution_count": 13,
     "metadata": {},
     "output_type": "execute_result"
    }
   ],
   "source": [
    "df_time_series.dtypes"
   ]
  },
  {
   "cell_type": "code",
   "execution_count": 14,
   "metadata": {},
   "outputs": [],
   "source": [
    "df_time_series[[\"Message\"]] = df_time_series[[\"Message\"]].fillna(value=\"\")"
   ]
  },
  {
   "cell_type": "code",
   "execution_count": 15,
   "metadata": {},
   "outputs": [],
   "source": [
    "df_time_series[\"Message\"] = df_time_series[\"Message\"].str.lower()"
   ]
  },
  {
   "cell_type": "code",
   "execution_count": 16,
   "metadata": {},
   "outputs": [],
   "source": [
    "def clean_date(row):\n",
    "    s_date = str(row[\"Created\"])\n",
    "    new_date = s_date.split(\" \")[0]\n",
    "    new_date = datetime.strptime(new_date, \"%Y-%m-%d\")\n",
    "    return new_date"
   ]
  },
  {
   "cell_type": "code",
   "execution_count": 17,
   "metadata": {},
   "outputs": [],
   "source": [
    "df_time_series[\"date_clean\"] = df_time_series.apply(lambda row: clean_date(row), axis=1)"
   ]
  },
  {
   "cell_type": "markdown",
   "metadata": {},
   "source": [
    "#### First filter for immigration words"
   ]
  },
  {
   "cell_type": "code",
   "execution_count": 18,
   "metadata": {},
   "outputs": [],
   "source": [
    "df_time_series = df_time_series[\n",
    "    df_time_series[\"Message\"].str.contains(\"|\".join(immigration_words_list))\n",
    "]"
   ]
  },
  {
   "cell_type": "code",
   "execution_count": 19,
   "metadata": {},
   "outputs": [
    {
     "data": {
      "text/plain": [
       "6516"
      ]
     },
     "execution_count": 19,
     "metadata": {},
     "output_type": "execute_result"
    }
   ],
   "source": [
    "len(df_time_series)"
   ]
  },
  {
   "cell_type": "code",
   "execution_count": 20,
   "metadata": {},
   "outputs": [],
   "source": [
    "from collections import defaultdict"
   ]
  },
  {
   "cell_type": "code",
   "execution_count": 21,
   "metadata": {},
   "outputs": [],
   "source": [
    "account_other_ts_map = {}\n",
    "groups_by_account_other = df_time_series.groupby([\"Page Name\"])\n",
    "for account_name, df_account in groups_by_account_other:\n",
    "    list_of_lists_other = []\n",
    "    groups_date = df_account.groupby(\"date_clean\")\n",
    "    # print(account_name)\n",
    "    for date_, df_account_date in groups_date:\n",
    "        # print(date_, len(df_account_date))\n",
    "        list_of_lists_other.append([date_, len(df_account_date)])\n",
    "    new_df = pd.DataFrame(list_of_lists_other, columns=[\"date\", \"n_posts\"])\n",
    "    new_df = new_df.set_index(\"date\")\n",
    "    new_df.index.names = [\"date\"]\n",
    "    new_df = new_df.sort_index()\n",
    "    account_other_ts_map[account_name] = new_df"
   ]
  },
  {
   "cell_type": "code",
   "execution_count": 22,
   "metadata": {},
   "outputs": [],
   "source": [
    "idxs = pd.date_range(\"12-01-2019\", \"09-01-2020\")"
   ]
  },
  {
   "cell_type": "code",
   "execution_count": 23,
   "metadata": {},
   "outputs": [],
   "source": [
    "for name, df_ in account_other_ts_map.items():\n",
    "    df_ = df_.reindex(idxs, fill_value=0)\n",
    "    account_other_ts_map[name] = df_"
   ]
  },
  {
   "cell_type": "markdown",
   "metadata": {},
   "source": [
    "#### Second filter for red words"
   ]
  },
  {
   "cell_type": "code",
   "execution_count": 24,
   "metadata": {},
   "outputs": [],
   "source": [
    "df_time_series_red_words = df_time_series[\n",
    "    df_time_series[\"Message\"].str.contains(\"|\".join(red_words_list))\n",
    "].copy()"
   ]
  },
  {
   "cell_type": "code",
   "execution_count": 25,
   "metadata": {},
   "outputs": [
    {
     "data": {
      "text/plain": [
       "301"
      ]
     },
     "execution_count": 25,
     "metadata": {},
     "output_type": "execute_result"
    }
   ],
   "source": [
    "len(df_time_series_red_words)"
   ]
  },
  {
   "cell_type": "code",
   "execution_count": 26,
   "metadata": {},
   "outputs": [],
   "source": [
    "groups_by_account_red = df_time_series_red_words.groupby([\"Page Name\"])\n",
    "for account_name, df_account in groups_by_account_red:\n",
    "    list_of_lists_red = []\n",
    "    groups_date = df_account.groupby(\"date_clean\")\n",
    "    for date_, df_account_date in groups_date:\n",
    "        list_of_lists_red.append([date_, len(df_account_date)])\n",
    "    new_df = pd.DataFrame(list_of_lists_red, columns=[\"date\", \"n_posts\"])\n",
    "    new_df = new_df.set_index(\"date\")\n",
    "    new_df.index.names = [\"date\"]\n",
    "    new_df = new_df.sort_index()\n",
    "    account_red_ts_map[account_name] = new_df"
   ]
  },
  {
   "cell_type": "code",
   "execution_count": 27,
   "metadata": {},
   "outputs": [],
   "source": [
    "for name, df_ in account_red_ts_map.items():\n",
    "    df_ = df_.reindex(idxs, fill_value=0)\n",
    "    account_red_ts_map[name] = df_"
   ]
  },
  {
   "cell_type": "markdown",
   "metadata": {},
   "source": [
    "#### Third filter for risk words"
   ]
  },
  {
   "cell_type": "code",
   "execution_count": 28,
   "metadata": {},
   "outputs": [],
   "source": [
    "df_time_series_risk_words = df_time_series[\n",
    "    df_time_series[\"Message\"].str.contains(\"|\".join(risk_words_list))\n",
    "].copy()"
   ]
  },
  {
   "cell_type": "code",
   "execution_count": 29,
   "metadata": {},
   "outputs": [
    {
     "data": {
      "text/plain": [
       "2475"
      ]
     },
     "execution_count": 29,
     "metadata": {},
     "output_type": "execute_result"
    }
   ],
   "source": [
    "len(df_time_series_risk_words)"
   ]
  },
  {
   "cell_type": "code",
   "execution_count": 30,
   "metadata": {},
   "outputs": [],
   "source": [
    "groups_by_account_risk = df_time_series_risk_words.groupby([\"Page Name\"])\n",
    "for account_name, df_account in groups_by_account_risk:\n",
    "    list_of_lists_risk = []\n",
    "    groups_date = df_account.groupby(\"date_clean\")\n",
    "    for date_, df_account_date in groups_date:\n",
    "        list_of_lists_risk.append([date_, len(df_account_date)])\n",
    "    new_df = pd.DataFrame(list_of_lists_risk, columns=[\"date\", \"n_posts\"])\n",
    "    new_df = new_df.set_index(\"date\")\n",
    "    new_df.index.names = [\"date\"]\n",
    "    new_df = new_df.sort_index()\n",
    "    account_risk_ts_map[account_name] = new_df"
   ]
  },
  {
   "cell_type": "code",
   "execution_count": 31,
   "metadata": {},
   "outputs": [],
   "source": [
    "for name, df_ in account_risk_ts_map.items():\n",
    "    df_ = df_.reindex(idxs, fill_value=0)\n",
    "    account_risk_ts_map[name] = df_"
   ]
  },
  {
   "cell_type": "code",
   "execution_count": 32,
   "metadata": {},
   "outputs": [],
   "source": [
    "parties = [\n",
    "    \"Fratelli d'Italia\",\n",
    "    \"Lega - Salvini Premier\",\n",
    "    \"MoVimento 5 Stelle\",\n",
    "    \"Partito Democratico\",\n",
    "]\n",
    "politicians = [\n",
    "    \"Giorgia Meloni\",\n",
    "    \"Giuseppe Conte\",\n",
    "    \"Luigi Di Maio\",\n",
    "    \"Matteo Salvini\",\n",
    "    \"Nicola Fratoianni\",\n",
    "]"
   ]
  },
  {
   "cell_type": "code",
   "execution_count": 33,
   "metadata": {},
   "outputs": [
    {
     "data": {
      "text/plain": [
       "dict_keys(['Emma Bonino', 'Forza Italia', \"Fratelli d'Italia\", 'Giorgia Meloni', 'Giuseppe Conte', 'Italia Viva', 'Lega - Salvini Premier', 'Luigi Di Maio', 'Matteo Renzi', 'Matteo Salvini', 'MoVimento 5 Stelle', 'Nicola Fratoianni', 'Nicola Zingaretti', 'Partito Democratico', 'Più Europa', 'Silvio Berlusconi'])"
      ]
     },
     "execution_count": 33,
     "metadata": {},
     "output_type": "execute_result"
    }
   ],
   "source": [
    "account_risk_ts_map.keys()"
   ]
  },
  {
   "cell_type": "markdown",
   "metadata": {},
   "source": [
    "### Plots"
   ]
  },
  {
   "cell_type": "code",
   "execution_count": 34,
   "metadata": {},
   "outputs": [],
   "source": [
    "def plot_time_series(acc_list, map_, title, file_name):\n",
    "    plt.figure(figsize=(15, 10))\n",
    "    plt.grid(True)\n",
    "    for acc in [acc_list]:\n",
    "        if acc in map_:\n",
    "            plt.plot(\n",
    "                map_[acc][\"n_posts\"], label=acc,\n",
    "            )\n",
    "        else:\n",
    "            plt.close()\n",
    "            return\n",
    "    plt.axvspan(\n",
    "        datetime(2020, 2, 21),\n",
    "        datetime(2020, 5, 4),\n",
    "        ymin=0,\n",
    "        ymax=6,\n",
    "        alpha=0.2,\n",
    "        color=\"red\",\n",
    "    )\n",
    "    # plt.linewidth = 5\n",
    "    plt.legend(loc=2)\n",
    "    plt.title(\"n. posts - {} keywords \".format(title))\n",
    "    plt.savefig(\"output/timeseries/\" + file_name + \".pdf\")\n",
    "    plt.close()"
   ]
  },
  {
   "cell_type": "code",
   "execution_count": 35,
   "metadata": {},
   "outputs": [],
   "source": [
    "list_account_final = [\n",
    "    \"Matteo Salvini\",\n",
    "    \"Giorgia Meloni\",\n",
    "    \"MoVimento 5 Stelle\",\n",
    "    \"Partito Democratico\",\n",
    "    \"Giuseppe Conte\",\n",
    "]"
   ]
  },
  {
   "cell_type": "code",
   "execution_count": 36,
   "metadata": {},
   "outputs": [],
   "source": [
    "for acc in list_account_final:\n",
    "    plot_time_series(acc, account_risk_ts_map, \"risk\", \"risk/{}\".format(acc))"
   ]
  },
  {
   "cell_type": "code",
   "execution_count": 37,
   "metadata": {},
   "outputs": [],
   "source": [
    "for acc in list_account_final:\n",
    "    plot_time_series(acc, account_red_ts_map, \"red\", \"red_words/{}\".format(acc))"
   ]
  },
  {
   "cell_type": "code",
   "execution_count": 38,
   "metadata": {},
   "outputs": [
    {
     "data": {
      "text/plain": [
       "31197"
      ]
     },
     "execution_count": 38,
     "metadata": {},
     "output_type": "execute_result"
    }
   ],
   "source": [
    "gc.collect()"
   ]
  },
  {
   "cell_type": "code",
   "execution_count": 39,
   "metadata": {},
   "outputs": [
    {
     "data": {
      "text/plain": [
       "dict_keys(['Emma Bonino', 'Forza Italia', \"Fratelli d'Italia\", 'Giorgia Meloni', 'Italia Viva', 'Lega - Salvini Premier', 'Luigi Di Maio', 'Matteo Salvini', 'MoVimento 5 Stelle', 'Nicola Fratoianni', 'Nicola Zingaretti', 'Partito Democratico', 'Più Europa', 'Silvio Berlusconi'])"
      ]
     },
     "execution_count": 39,
     "metadata": {},
     "output_type": "execute_result"
    }
   ],
   "source": [
    "account_red_ts_map.keys()"
   ]
  },
  {
   "cell_type": "code",
   "execution_count": 40,
   "metadata": {},
   "outputs": [
    {
     "data": {
      "text/html": [
       "<div>\n",
       "<style scoped>\n",
       "    .dataframe tbody tr th:only-of-type {\n",
       "        vertical-align: middle;\n",
       "    }\n",
       "\n",
       "    .dataframe tbody tr th {\n",
       "        vertical-align: top;\n",
       "    }\n",
       "\n",
       "    .dataframe thead th {\n",
       "        text-align: right;\n",
       "    }\n",
       "</style>\n",
       "<table border=\"1\" class=\"dataframe\">\n",
       "  <thead>\n",
       "    <tr style=\"text-align: right;\">\n",
       "      <th></th>\n",
       "      <th>n_posts</th>\n",
       "    </tr>\n",
       "  </thead>\n",
       "  <tbody>\n",
       "    <tr>\n",
       "      <th>2019-12-01</th>\n",
       "      <td>1</td>\n",
       "    </tr>\n",
       "    <tr>\n",
       "      <th>2019-12-02</th>\n",
       "      <td>0</td>\n",
       "    </tr>\n",
       "    <tr>\n",
       "      <th>2019-12-03</th>\n",
       "      <td>0</td>\n",
       "    </tr>\n",
       "    <tr>\n",
       "      <th>2019-12-04</th>\n",
       "      <td>0</td>\n",
       "    </tr>\n",
       "    <tr>\n",
       "      <th>2019-12-05</th>\n",
       "      <td>0</td>\n",
       "    </tr>\n",
       "    <tr>\n",
       "      <th>...</th>\n",
       "      <td>...</td>\n",
       "    </tr>\n",
       "    <tr>\n",
       "      <th>2020-08-28</th>\n",
       "      <td>1</td>\n",
       "    </tr>\n",
       "    <tr>\n",
       "      <th>2020-08-29</th>\n",
       "      <td>2</td>\n",
       "    </tr>\n",
       "    <tr>\n",
       "      <th>2020-08-30</th>\n",
       "      <td>2</td>\n",
       "    </tr>\n",
       "    <tr>\n",
       "      <th>2020-08-31</th>\n",
       "      <td>0</td>\n",
       "    </tr>\n",
       "    <tr>\n",
       "      <th>2020-09-01</th>\n",
       "      <td>0</td>\n",
       "    </tr>\n",
       "  </tbody>\n",
       "</table>\n",
       "<p>276 rows × 1 columns</p>\n",
       "</div>"
      ],
      "text/plain": [
       "            n_posts\n",
       "2019-12-01        1\n",
       "2019-12-02        0\n",
       "2019-12-03        0\n",
       "2019-12-04        0\n",
       "2019-12-05        0\n",
       "...             ...\n",
       "2020-08-28        1\n",
       "2020-08-29        2\n",
       "2020-08-30        2\n",
       "2020-08-31        0\n",
       "2020-09-01        0\n",
       "\n",
       "[276 rows x 1 columns]"
      ]
     },
     "execution_count": 40,
     "metadata": {},
     "output_type": "execute_result"
    }
   ],
   "source": [
    "account_risk_ts_map[\"Giorgia Meloni\"]"
   ]
  },
  {
   "cell_type": "markdown",
   "metadata": {},
   "source": [
    "### Plot with frequency of risk keywords posts and other posts"
   ]
  },
  {
   "cell_type": "code",
   "execution_count": 41,
   "metadata": {},
   "outputs": [],
   "source": [
    "def plot_time_series_comparation(acc_list, title, file_name):\n",
    "    plt.figure(figsize=(15, 10))\n",
    "    plt.grid(True)\n",
    "    for acc in [acc_list]:\n",
    "        if acc in account_other_ts_map and acc in account_risk_ts_map:\n",
    "            plt.plot(\n",
    "                account_other_ts_map[acc][\"n_posts\"],\n",
    "                label=acc + \" - All Immigration Posts\",\n",
    "            )\n",
    "            plt.plot(\n",
    "                account_risk_ts_map[acc][\"n_posts\"],\n",
    "                label=acc + \" - Only Risk and Threat Posts\",\n",
    "            )\n",
    "        else:\n",
    "            plt.close()\n",
    "            return\n",
    "    plt.axvspan(\n",
    "        datetime(2020, 2, 21),\n",
    "        datetime(2020, 5, 4),\n",
    "        ymin=0,\n",
    "        ymax=6,\n",
    "        alpha=0.2,\n",
    "        color=\"red\",\n",
    "    )\n",
    "    # plt.linewidth = 5\n",
    "    plt.legend(loc=2)\n",
    "    plt.title(\"n.posts vs n.risk and threat posts, per day\".format(title))\n",
    "    plt.savefig(\"output/timeseries/\" + file_name + \".pdf\")\n",
    "    plt.close()"
   ]
  },
  {
   "cell_type": "code",
   "execution_count": 42,
   "metadata": {},
   "outputs": [],
   "source": [
    "for acc in list_account_final:\n",
    "    plot_time_series_comparation(acc, \"risk\", \"risk_compare_all_posts/{}\".format(acc))"
   ]
  },
  {
   "cell_type": "markdown",
   "metadata": {},
   "source": [
    "### Top 10 posts"
   ]
  },
  {
   "cell_type": "code",
   "execution_count": 45,
   "metadata": {},
   "outputs": [],
   "source": [
    "def get_best_posts(df):\n",
    "    df[\"interactions\"] = (\n",
    "        df[\"Likes\"]\n",
    "        + df[\"Comments\"]\n",
    "        + df[\"Shares\"]\n",
    "        + df[\"Love\"]\n",
    "        + df[\"Haha\"]\n",
    "        + df[\"Wow\"]\n",
    "        + df[\"Sad\"]\n",
    "        + df[\"Care\"]\n",
    "        + df[\"Angry\"]\n",
    "    )\n",
    "    df = df.sort_values(\n",
    "        by=[\"interactions\", \"Overperforming Score\"], ascending=False\n",
    "    ).iloc[0:10]\n",
    "    return df"
   ]
  },
  {
   "cell_type": "markdown",
   "metadata": {},
   "source": [
    "#### Top 10 posts - immigration posts"
   ]
  },
  {
   "cell_type": "code",
   "execution_count": 46,
   "metadata": {},
   "outputs": [],
   "source": [
    "df_fb_list = []\n",
    "grouped = df_time_series.groupby([\"Page Name\"])\n",
    "for name, group in grouped:\n",
    "    df_copy = group.copy()\n",
    "    df = get_best_posts(df_copy)\n",
    "    df_fb_list.append(df)\n",
    "    # print(df.head())"
   ]
  },
  {
   "cell_type": "code",
   "execution_count": 47,
   "metadata": {},
   "outputs": [],
   "source": [
    "result_fb = pd.concat(df_fb_list).reset_index()\n",
    "result_fb.to_csv(\"output/top_10_posts_fb.csv\")"
   ]
  },
  {
   "cell_type": "markdown",
   "metadata": {},
   "source": [
    "#### Top 10 posts - immigration and risk and threat posts"
   ]
  },
  {
   "cell_type": "code",
   "execution_count": 48,
   "metadata": {},
   "outputs": [],
   "source": [
    "df_fb_list = []\n",
    "grouped = df_time_series_risk_words.groupby([\"Page Name\"])\n",
    "for name, group in grouped:\n",
    "    df_copy = group.copy()\n",
    "    df = get_best_posts(df_copy)\n",
    "    df_fb_list.append(df)\n",
    "    # print(df.head())"
   ]
  },
  {
   "cell_type": "code",
   "execution_count": 49,
   "metadata": {},
   "outputs": [],
   "source": [
    "result_fb = pd.concat(df_fb_list).reset_index()\n",
    "result_fb.to_csv(\"output/top_10_posts_risk.csv\")"
   ]
  }
 ],
 "metadata": {
  "kernelspec": {
   "display_name": "ricerca",
   "language": "python",
   "name": "ricerca"
  },
  "language_info": {
   "codemirror_mode": {
    "name": "ipython",
    "version": 3
   },
   "file_extension": ".py",
   "mimetype": "text/x-python",
   "name": "python",
   "nbconvert_exporter": "python",
   "pygments_lexer": "ipython3",
   "version": "3.7.9"
  }
 },
 "nbformat": 4,
 "nbformat_minor": 4
}
